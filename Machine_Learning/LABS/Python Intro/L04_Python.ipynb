{
  "nbformat": 4,
  "nbformat_minor": 0,
  "metadata": {
    "colab": {
      "name": "L04_Welliton.ipynb",
      "provenance": [],
      "collapsed_sections": []
    },
    "kernelspec": {
      "name": "python3",
      "display_name": "Python 3"
    }
  },
  "cells": [
    {
      "cell_type": "markdown",
      "metadata": {
        "id": "kHcsW2pcu4v9"
      },
      "source": [
        "**Welliton Leal - Aula de Exercícios 01**"
      ]
    },
    {
      "cell_type": "markdown",
      "metadata": {
        "id": "pnw4VaYKzuy1"
      },
      "source": [
        "***N-dimensional Arrays***"
      ]
    },
    {
      "cell_type": "code",
      "metadata": {
        "id": "Iniew3RuKnQm",
        "colab": {
          "base_uri": "https://localhost:8080/",
          "height": 51
        },
        "outputId": "7f9c62a6-bf50-4fef-fa14-afbf93df95b2"
      },
      "source": [
        "import numpy as np #importa biblioteca e define atalho pra chama-la\n",
        "lst = [[1, 2, 3], [4, 5, 6]] #cria lista com duas linhas\n",
        "ary2d = np.array(lst)  #armazena em um vetor de 2 dimensões\n",
        "ary2d"
      ],
      "execution_count": null,
      "outputs": [
        {
          "output_type": "execute_result",
          "data": {
            "text/plain": [
              "array([[1, 2, 3],\n",
              "       [4, 5, 6]])"
            ]
          },
          "metadata": {
            "tags": []
          },
          "execution_count": 1
        }
      ]
    },
    {
      "cell_type": "code",
      "metadata": {
        "id": "q3YLkCluLIC4",
        "colab": {
          "base_uri": "https://localhost:8080/",
          "height": 34
        },
        "outputId": "f9bfd6e5-de59-4a6a-aadf-e63fdd60dd1e"
      },
      "source": [
        "ary2d.dtype #exibe o tipo"
      ],
      "execution_count": null,
      "outputs": [
        {
          "output_type": "execute_result",
          "data": {
            "text/plain": [
              "dtype('int64')"
            ]
          },
          "metadata": {
            "tags": []
          },
          "execution_count": 3
        }
      ]
    },
    {
      "cell_type": "markdown",
      "metadata": {
        "id": "W8MQKYan0CJM"
      },
      "source": [
        "***Array Construction Routines***"
      ]
    },
    {
      "cell_type": "code",
      "metadata": {
        "id": "zBLNDgN0K6oX",
        "colab": {
          "base_uri": "https://localhost:8080/",
          "height": 51
        },
        "outputId": "9149c4c7-dde1-4d3d-d4e4-2b560110dda2"
      },
      "source": [
        "float32_ary = ary2d.astype(np.float32) #muda o tipo\n",
        "float32_ary"
      ],
      "execution_count": null,
      "outputs": [
        {
          "output_type": "execute_result",
          "data": {
            "text/plain": [
              "array([[1., 2., 3.],\n",
              "       [4., 5., 6.]], dtype=float32)"
            ]
          },
          "metadata": {
            "tags": []
          },
          "execution_count": 2
        }
      ]
    },
    {
      "cell_type": "code",
      "metadata": {
        "id": "WRkRrecPMEh_",
        "colab": {
          "base_uri": "https://localhost:8080/",
          "height": 34
        },
        "outputId": "7ad1c351-41bd-498c-eaa8-a7f55d0cd9a2"
      },
      "source": [
        "float32_ary.dtype"
      ],
      "execution_count": null,
      "outputs": [
        {
          "output_type": "execute_result",
          "data": {
            "text/plain": [
              "dtype('float32')"
            ]
          },
          "metadata": {
            "tags": []
          },
          "execution_count": 6
        }
      ]
    },
    {
      "cell_type": "code",
      "metadata": {
        "id": "X5tJhcRcMoKx",
        "colab": {
          "base_uri": "https://localhost:8080/",
          "height": 34
        },
        "outputId": "ec870d58-22f8-447b-d036-3b16ce771a83"
      },
      "source": [
        "ary2d.size #mostra tamanho"
      ],
      "execution_count": null,
      "outputs": [
        {
          "output_type": "execute_result",
          "data": {
            "text/plain": [
              "6"
            ]
          },
          "metadata": {
            "tags": []
          },
          "execution_count": 7
        }
      ]
    },
    {
      "cell_type": "code",
      "metadata": {
        "id": "HXEIe9IsMzwC",
        "colab": {
          "base_uri": "https://localhost:8080/",
          "height": 34
        },
        "outputId": "4e83bdba-8bcb-4a09-af71-9739660727cc"
      },
      "source": [
        "ary2d.ndim #mostra dimensão"
      ],
      "execution_count": null,
      "outputs": [
        {
          "output_type": "execute_result",
          "data": {
            "text/plain": [
              "2"
            ]
          },
          "metadata": {
            "tags": []
          },
          "execution_count": 8
        }
      ]
    },
    {
      "cell_type": "code",
      "metadata": {
        "id": "4LJ1oP83M_Ba",
        "colab": {
          "base_uri": "https://localhost:8080/",
          "height": 34
        },
        "outputId": "002e0416-b382-48bc-ed57-d7e268b4355b"
      },
      "source": [
        "ary2d.shape #mostra formato"
      ],
      "execution_count": null,
      "outputs": [
        {
          "output_type": "execute_result",
          "data": {
            "text/plain": [
              "(2, 3)"
            ]
          },
          "metadata": {
            "tags": []
          },
          "execution_count": 9
        }
      ]
    },
    {
      "cell_type": "code",
      "metadata": {
        "id": "YOZ_NgbNNuqe",
        "colab": {
          "base_uri": "https://localhost:8080/",
          "height": 34
        },
        "outputId": "0349c882-a24b-47c4-a645-a61c0ec154ec"
      },
      "source": [
        "np.array([1, 2, 3]).shape  "
      ],
      "execution_count": null,
      "outputs": [
        {
          "output_type": "execute_result",
          "data": {
            "text/plain": [
              "(3,)"
            ]
          },
          "metadata": {
            "tags": []
          },
          "execution_count": 10
        }
      ]
    },
    {
      "cell_type": "code",
      "metadata": {
        "id": "tjnd3xpoOLMq",
        "colab": {
          "base_uri": "https://localhost:8080/",
          "height": 68
        },
        "outputId": "46a4a700-cdca-49b1-d8f1-c4557006a4aa"
      },
      "source": [
        "np.ones((3, 3)) #matriz de 1's"
      ],
      "execution_count": null,
      "outputs": [
        {
          "output_type": "execute_result",
          "data": {
            "text/plain": [
              "array([[1., 1., 1.],\n",
              "       [1., 1., 1.],\n",
              "       [1., 1., 1.]])"
            ]
          },
          "metadata": {
            "tags": []
          },
          "execution_count": 11
        }
      ]
    },
    {
      "cell_type": "code",
      "metadata": {
        "id": "qHI04ESqO3Cy",
        "colab": {
          "base_uri": "https://localhost:8080/",
          "height": 68
        },
        "outputId": "25b40d0a-85d5-4b90-939b-b151887451de"
      },
      "source": [
        "np.zeros((3, 3)) #matriz de 0's"
      ],
      "execution_count": null,
      "outputs": [
        {
          "output_type": "execute_result",
          "data": {
            "text/plain": [
              "array([[0., 0., 0.],\n",
              "       [0., 0., 0.],\n",
              "       [0., 0., 0.]])"
            ]
          },
          "metadata": {
            "tags": []
          },
          "execution_count": 12
        }
      ]
    },
    {
      "cell_type": "code",
      "metadata": {
        "id": "SAvQXiyjPNCF",
        "colab": {
          "base_uri": "https://localhost:8080/",
          "height": 68
        },
        "outputId": "399f490a-7608-4330-a20a-719805a07a5a"
      },
      "source": [
        "np.eye(3) #matriz ID"
      ],
      "execution_count": null,
      "outputs": [
        {
          "output_type": "execute_result",
          "data": {
            "text/plain": [
              "array([[1., 0., 0.],\n",
              "       [0., 1., 0.],\n",
              "       [0., 0., 1.]])"
            ]
          },
          "metadata": {
            "tags": []
          },
          "execution_count": 13
        }
      ]
    },
    {
      "cell_type": "code",
      "metadata": {
        "id": "eIoQy81RP0PB",
        "colab": {
          "base_uri": "https://localhost:8080/",
          "height": 68
        },
        "outputId": "f7fff4d0-5c08-440d-dcb0-983bdce15afe"
      },
      "source": [
        "np.diag((3, 3, 3)) #matriz IDxEscalar"
      ],
      "execution_count": null,
      "outputs": [
        {
          "output_type": "execute_result",
          "data": {
            "text/plain": [
              "array([[3, 0, 0],\n",
              "       [0, 3, 0],\n",
              "       [0, 0, 3]])"
            ]
          },
          "metadata": {
            "tags": []
          },
          "execution_count": 14
        }
      ]
    },
    {
      "cell_type": "code",
      "metadata": {
        "id": "t8g1OJ-NRCpN",
        "colab": {
          "base_uri": "https://localhost:8080/",
          "height": 34
        },
        "outputId": "99da6e91-44a1-4b05-ec3d-448d8e2946da"
      },
      "source": [
        "np.arange(4., 10.) #cria array com valores dentro do intervalo"
      ],
      "execution_count": null,
      "outputs": [
        {
          "output_type": "execute_result",
          "data": {
            "text/plain": [
              "array([4., 5., 6., 7., 8., 9.])"
            ]
          },
          "metadata": {
            "tags": []
          },
          "execution_count": 15
        }
      ]
    },
    {
      "cell_type": "code",
      "metadata": {
        "id": "6HD7NDMhRWoe",
        "colab": {
          "base_uri": "https://localhost:8080/",
          "height": 34
        },
        "outputId": "91b25b7e-386a-41d6-d482-5a50cbd35e10"
      },
      "source": [
        "np.arange(5) #cria array com valores de 0 até o valor"
      ],
      "execution_count": null,
      "outputs": [
        {
          "output_type": "execute_result",
          "data": {
            "text/plain": [
              "array([0, 1, 2, 3, 4])"
            ]
          },
          "metadata": {
            "tags": []
          },
          "execution_count": 16
        }
      ]
    },
    {
      "cell_type": "code",
      "metadata": {
        "id": "TyFp3kXGSMm8",
        "colab": {
          "base_uri": "https://localhost:8080/",
          "height": 34
        },
        "outputId": "6a5abe4b-b3d5-491b-f809-95bc3cb8deb5"
      },
      "source": [
        "np.linspace(0., 1., num=5) #cria array no intervalo de 0 a 1 dividido em 5 partes = 1/5"
      ],
      "execution_count": null,
      "outputs": [
        {
          "output_type": "execute_result",
          "data": {
            "text/plain": [
              "array([0.  , 0.25, 0.5 , 0.75, 1.  ])"
            ]
          },
          "metadata": {
            "tags": []
          },
          "execution_count": 17
        }
      ]
    },
    {
      "cell_type": "markdown",
      "metadata": {
        "id": "p3o_SAmr0NNf"
      },
      "source": [
        "***Array Indexing***"
      ]
    },
    {
      "cell_type": "code",
      "metadata": {
        "id": "C7BI5a6FSw7J",
        "colab": {
          "base_uri": "https://localhost:8080/",
          "height": 34
        },
        "outputId": "7a8320eb-8aec-49f7-85d0-9c2e39e06678"
      },
      "source": [
        "ary = np.array([1, 2, 3]) #exibe valor da pos 0\n",
        "ary[0]"
      ],
      "execution_count": null,
      "outputs": [
        {
          "output_type": "execute_result",
          "data": {
            "text/plain": [
              "1"
            ]
          },
          "metadata": {
            "tags": []
          },
          "execution_count": 18
        }
      ]
    },
    {
      "cell_type": "code",
      "metadata": {
        "id": "spdEsDqQTArq",
        "colab": {
          "base_uri": "https://localhost:8080/",
          "height": 34
        },
        "outputId": "85653124-fb8c-447f-e019-3179bb53e1d7"
      },
      "source": [
        "ary[:2] # equivalent to ary[0:2]"
      ],
      "execution_count": null,
      "outputs": [
        {
          "output_type": "execute_result",
          "data": {
            "text/plain": [
              "array([1, 2])"
            ]
          },
          "metadata": {
            "tags": []
          },
          "execution_count": 19
        }
      ]
    },
    {
      "cell_type": "code",
      "metadata": {
        "id": "gsTxsl1KTKaI",
        "colab": {
          "base_uri": "https://localhost:8080/",
          "height": 34
        },
        "outputId": "e3b66c78-fa9f-4108-9b55-4278a8c76c94"
      },
      "source": [
        "ary = np.array([[1, 2, 3],\n",
        "... [4, 5, 6]])\n",
        "ary[0, 0] #exibe valor na pos superior esquerda"
      ],
      "execution_count": null,
      "outputs": [
        {
          "output_type": "execute_result",
          "data": {
            "text/plain": [
              "1"
            ]
          },
          "metadata": {
            "tags": []
          },
          "execution_count": 23
        }
      ]
    },
    {
      "cell_type": "code",
      "metadata": {
        "id": "qJ2BhiSlTTAQ",
        "colab": {
          "base_uri": "https://localhost:8080/",
          "height": 34
        },
        "outputId": "f4413236-2a4b-427e-ea0f-19909d04a2ee"
      },
      "source": [
        "ary[-1, -1] # exibe valor na pos inferior da direita "
      ],
      "execution_count": null,
      "outputs": [
        {
          "output_type": "execute_result",
          "data": {
            "text/plain": [
              "6"
            ]
          },
          "metadata": {
            "tags": []
          },
          "execution_count": 22
        }
      ]
    },
    {
      "cell_type": "code",
      "metadata": {
        "id": "tkNarapjTfXf",
        "colab": {
          "base_uri": "https://localhost:8080/",
          "height": 34
        },
        "outputId": "84937f59-960d-4449-8195-ad72080e37b0"
      },
      "source": [
        "ary[0, 1] #exibe primeira linha segunda coluna"
      ],
      "execution_count": null,
      "outputs": [
        {
          "output_type": "execute_result",
          "data": {
            "text/plain": [
              "2"
            ]
          },
          "metadata": {
            "tags": []
          },
          "execution_count": 24
        }
      ]
    },
    {
      "cell_type": "code",
      "metadata": {
        "id": "BnivNwZbUVso",
        "colab": {
          "base_uri": "https://localhost:8080/",
          "height": 34
        },
        "outputId": "029a344a-b409-4c14-d56e-f6374748a3f7"
      },
      "source": [
        "ary[0] # exibe primeira linha inteira"
      ],
      "execution_count": null,
      "outputs": [
        {
          "output_type": "execute_result",
          "data": {
            "text/plain": [
              "array([1, 2, 3])"
            ]
          },
          "metadata": {
            "tags": []
          },
          "execution_count": 25
        }
      ]
    },
    {
      "cell_type": "code",
      "metadata": {
        "id": "x00QBVKhUY6h",
        "colab": {
          "base_uri": "https://localhost:8080/",
          "height": 34
        },
        "outputId": "ec565cea-6e0a-4955-94f5-69eb51c011c6"
      },
      "source": [
        "ary[:, 0] # exibe a primeira coluna inteira"
      ],
      "execution_count": null,
      "outputs": [
        {
          "output_type": "execute_result",
          "data": {
            "text/plain": [
              "array([1, 4])"
            ]
          },
          "metadata": {
            "tags": []
          },
          "execution_count": 26
        }
      ]
    },
    {
      "cell_type": "code",
      "metadata": {
        "id": "UBWk6OFfUi7E",
        "colab": {
          "base_uri": "https://localhost:8080/",
          "height": 51
        },
        "outputId": "35782380-eca7-404f-81c5-eb7c3cbdd94e"
      },
      "source": [
        "ary[:, :2] #exibe as primeiras duas colunas"
      ],
      "execution_count": null,
      "outputs": [
        {
          "output_type": "execute_result",
          "data": {
            "text/plain": [
              "array([[1, 2],\n",
              "       [4, 5]])"
            ]
          },
          "metadata": {
            "tags": []
          },
          "execution_count": 27
        }
      ]
    },
    {
      "cell_type": "code",
      "metadata": {
        "id": "mJmRWb-8UnpC",
        "colab": {
          "base_uri": "https://localhost:8080/",
          "height": 34
        },
        "outputId": "748dfd6c-663e-4d23-d11b-e3400d43ff85"
      },
      "source": [
        "ary[0,0]"
      ],
      "execution_count": null,
      "outputs": [
        {
          "output_type": "execute_result",
          "data": {
            "text/plain": [
              "1"
            ]
          },
          "metadata": {
            "tags": []
          },
          "execution_count": 28
        }
      ]
    },
    {
      "cell_type": "markdown",
      "metadata": {
        "id": "WPfKYKPu0ZDh"
      },
      "source": [
        "***Array Math and Universal Functions***"
      ]
    },
    {
      "cell_type": "code",
      "metadata": {
        "id": "KTosTk2mVoam",
        "colab": {
          "base_uri": "https://localhost:8080/",
          "height": 34
        },
        "outputId": "d14c7c08-e9b7-44fe-ab57-868e35e7a079"
      },
      "source": [
        "lst = [[1, 2, 3], [4, 5, 6]] #cria lista\n",
        "for row_idx, row_val in enumerate(lst):\n",
        "  for col_idx, col_val in enumerate(row_val):\n",
        "    lst[row_idx][col_idx] += 1\n",
        "lst"
      ],
      "execution_count": null,
      "outputs": [
        {
          "output_type": "execute_result",
          "data": {
            "text/plain": [
              "[[2, 3, 4], [5, 6, 7]]"
            ]
          },
          "metadata": {
            "tags": []
          },
          "execution_count": 47
        }
      ]
    },
    {
      "cell_type": "code",
      "metadata": {
        "id": "atOBL9U5pvF-",
        "colab": {
          "base_uri": "https://localhost:8080/",
          "height": 34
        },
        "outputId": "86519f4b-9132-47da-dfb5-66496402a0d1"
      },
      "source": [
        "lst = [[1, 2, 3], [4, 5, 6]]\n",
        "[[cell + 1 for cell in row] for row in lst]"
      ],
      "execution_count": null,
      "outputs": [
        {
          "output_type": "execute_result",
          "data": {
            "text/plain": [
              "[[2, 3, 4], [5, 6, 7]]"
            ]
          },
          "metadata": {
            "tags": []
          },
          "execution_count": 1
        }
      ]
    },
    {
      "cell_type": "code",
      "metadata": {
        "id": "SefMfY2ROwM3",
        "colab": {
          "base_uri": "https://localhost:8080/",
          "height": 51
        },
        "outputId": "9e0abf4a-832d-4e6e-c192-7d7ff8063b24"
      },
      "source": [
        "ary = np.array([[1, 2, 3], [4, 5, 6]])\n",
        "ary = np.add(ary, 1)\n",
        "ary"
      ],
      "execution_count": null,
      "outputs": [
        {
          "output_type": "execute_result",
          "data": {
            "text/plain": [
              "array([[2, 3, 4],\n",
              "       [5, 6, 7]])"
            ]
          },
          "metadata": {
            "tags": []
          },
          "execution_count": 7
        }
      ]
    },
    {
      "cell_type": "code",
      "metadata": {
        "id": "2RGhenPHPh1T",
        "colab": {
          "base_uri": "https://localhost:8080/",
          "height": 51
        },
        "outputId": "87af0da2-a649-4883-fdc7-959226cb1f26"
      },
      "source": [
        "ary + 1 #soma 1 em tudo"
      ],
      "execution_count": null,
      "outputs": [
        {
          "output_type": "execute_result",
          "data": {
            "text/plain": [
              "array([[3, 4, 5],\n",
              "       [6, 7, 8]])"
            ]
          },
          "metadata": {
            "tags": []
          },
          "execution_count": 8
        }
      ]
    },
    {
      "cell_type": "code",
      "metadata": {
        "id": "29o8rM2UPmjw",
        "colab": {
          "base_uri": "https://localhost:8080/",
          "height": 51
        },
        "outputId": "661ca6a3-7f8c-43c2-d6d3-836d525f0eca"
      },
      "source": [
        "ary**2 #multiplica tudo por 2"
      ],
      "execution_count": null,
      "outputs": [
        {
          "output_type": "execute_result",
          "data": {
            "text/plain": [
              "array([[ 4,  9, 16],\n",
              "       [25, 36, 49]])"
            ]
          },
          "metadata": {
            "tags": []
          },
          "execution_count": 9
        }
      ]
    },
    {
      "cell_type": "code",
      "metadata": {
        "id": "la-0oAIiPoJF",
        "colab": {
          "base_uri": "https://localhost:8080/",
          "height": 34
        },
        "outputId": "dfe3df27-80c6-4d72-9420-648f66b35d94"
      },
      "source": [
        "ary = np.array([[1, 2, 3],\n",
        "... [4, 5, 6]])\n",
        "np.add.reduce(ary) #soma as colunas"
      ],
      "execution_count": null,
      "outputs": [
        {
          "output_type": "execute_result",
          "data": {
            "text/plain": [
              "array([5, 7, 9])"
            ]
          },
          "metadata": {
            "tags": []
          },
          "execution_count": 11
        }
      ]
    },
    {
      "cell_type": "code",
      "metadata": {
        "id": "Ln1_oJ08qBAE",
        "colab": {
          "base_uri": "https://localhost:8080/",
          "height": 34
        },
        "outputId": "30709fd8-e540-4cc3-db30-c7c951a09fe9"
      },
      "source": [
        "np.add.reduce(ary, axis=1) #soma as linha"
      ],
      "execution_count": null,
      "outputs": [
        {
          "output_type": "execute_result",
          "data": {
            "text/plain": [
              "array([ 6, 15])"
            ]
          },
          "metadata": {
            "tags": []
          },
          "execution_count": 12
        }
      ]
    },
    {
      "cell_type": "code",
      "metadata": {
        "id": "yQFQwZHyqSGV",
        "colab": {
          "base_uri": "https://localhost:8080/",
          "height": 34
        },
        "outputId": "292a88ea-9f42-42a3-c45a-3856c0b91b63"
      },
      "source": [
        "ary.sum(axis=0) #soma as colunas"
      ],
      "execution_count": null,
      "outputs": [
        {
          "output_type": "execute_result",
          "data": {
            "text/plain": [
              "array([5, 7, 9])"
            ]
          },
          "metadata": {
            "tags": []
          },
          "execution_count": 13
        }
      ]
    },
    {
      "cell_type": "code",
      "metadata": {
        "id": "Uw7bZ3R3qZ5j",
        "colab": {
          "base_uri": "https://localhost:8080/",
          "height": 34
        },
        "outputId": "7f49f25b-cb35-4caf-cc44-85fd11f18401"
      },
      "source": [
        "ary.sum() #some todos os valores"
      ],
      "execution_count": null,
      "outputs": [
        {
          "output_type": "execute_result",
          "data": {
            "text/plain": [
              "21"
            ]
          },
          "metadata": {
            "tags": []
          },
          "execution_count": 14
        }
      ]
    },
    {
      "cell_type": "markdown",
      "metadata": {
        "id": "QGkN3iy90jRA"
      },
      "source": [
        "***Broadcasting***"
      ]
    },
    {
      "cell_type": "code",
      "metadata": {
        "id": "GyZ68ypXsPXK",
        "colab": {
          "base_uri": "https://localhost:8080/",
          "height": 34
        },
        "outputId": "e7f0c457-44f3-40dc-914e-fe098d3e6c10"
      },
      "source": [
        "ary1 = np.array([1, 2, 3])\n",
        "ary2 = np.array([4, 5, 6])\n",
        "ary1 + ary2 #soma os 2 vetores valor a valor"
      ],
      "execution_count": null,
      "outputs": [
        {
          "output_type": "execute_result",
          "data": {
            "text/plain": [
              "array([5, 7, 9])"
            ]
          },
          "metadata": {
            "tags": []
          },
          "execution_count": 19
        }
      ]
    },
    {
      "cell_type": "code",
      "metadata": {
        "id": "ZrvdfhBVscvL"
      },
      "source": [
        "ary3 = np.array([[4, 5, 6],\n",
        "... [7, 8, 9]]) #definindo nova lista"
      ],
      "execution_count": null,
      "outputs": []
    },
    {
      "cell_type": "code",
      "metadata": {
        "id": "R4kNyZPIse-c",
        "colab": {
          "base_uri": "https://localhost:8080/",
          "height": 51
        },
        "outputId": "6ce93964-80b7-43b0-e929-9390d4ae9a45"
      },
      "source": [
        "ary3 + ary1 #soma ary1 + ary3"
      ],
      "execution_count": null,
      "outputs": [
        {
          "output_type": "execute_result",
          "data": {
            "text/plain": [
              "array([[ 5,  7,  9],\n",
              "       [ 8, 10, 12]])"
            ]
          },
          "metadata": {
            "tags": []
          },
          "execution_count": 21
        }
      ]
    },
    {
      "cell_type": "markdown",
      "metadata": {
        "id": "hHSDfen60oez"
      },
      "source": [
        "***Advanced Indexing – Memory Views and Copies***"
      ]
    },
    {
      "cell_type": "code",
      "metadata": {
        "id": "0i0Fx1bYvhLO",
        "colab": {
          "base_uri": "https://localhost:8080/",
          "height": 51
        },
        "outputId": "c67f9776-c3ea-48a4-d72d-3e4698b3830e"
      },
      "source": [
        " ary = np.array([[1, 2, 3],\n",
        "... [4, 5, 6]])\n",
        "first_row = ary[0] #cria variável e armazena toda a primeira linha\n",
        "first_row += 99 #soma 99 a a todos os valores\n",
        "ary"
      ],
      "execution_count": null,
      "outputs": [
        {
          "output_type": "execute_result",
          "data": {
            "text/plain": [
              "array([[100, 101, 102],\n",
              "       [  4,   5,   6]])"
            ]
          },
          "metadata": {
            "tags": []
          },
          "execution_count": 22
        }
      ]
    },
    {
      "cell_type": "code",
      "metadata": {
        "id": "kIDmTf86wdo6",
        "colab": {
          "base_uri": "https://localhost:8080/",
          "height": 51
        },
        "outputId": "5a208c04-e288-45fb-f612-aac75328d362"
      },
      "source": [
        "ary = np.array([[1, 2, 3],\n",
        "... [4, 5, 6]])\n",
        "center_col = ary[:, 1] #recebe só a coluna do meio\n",
        "center_col += 99 #soma a coluna do meio + 99\n",
        "ary"
      ],
      "execution_count": null,
      "outputs": [
        {
          "output_type": "execute_result",
          "data": {
            "text/plain": [
              "array([[  1, 101,   3],\n",
              "       [  4, 104,   6]])"
            ]
          },
          "metadata": {
            "tags": []
          },
          "execution_count": 23
        }
      ]
    },
    {
      "cell_type": "code",
      "metadata": {
        "id": "sXt0-G0bzyia",
        "colab": {
          "base_uri": "https://localhost:8080/",
          "height": 51
        },
        "outputId": "71fae1db-26b5-4eb2-9d7c-673ff5122523"
      },
      "source": [
        "ary = np.array([[1, 2, 3],\n",
        "... [4, 5, 6]])\n",
        "second_row = ary[1].copy()\n",
        "second_row += 99\n",
        "ary"
      ],
      "execution_count": null,
      "outputs": [
        {
          "output_type": "execute_result",
          "data": {
            "text/plain": [
              "array([[1, 2, 3],\n",
              "       [4, 5, 6]])"
            ]
          },
          "metadata": {
            "tags": []
          },
          "execution_count": 25
        }
      ]
    },
    {
      "cell_type": "code",
      "metadata": {
        "id": "xZl6M72zz3eL",
        "colab": {
          "base_uri": "https://localhost:8080/",
          "height": 51
        },
        "outputId": "86070ce6-9158-4f25-9779-cb7eb66a8e6c"
      },
      "source": [
        "ary = np.array([[1, 2, 3],\n",
        "... [4, 5, 6]])\n",
        "ary[:, [0, 2]] # first and and last column"
      ],
      "execution_count": null,
      "outputs": [
        {
          "output_type": "execute_result",
          "data": {
            "text/plain": [
              "array([[1, 3],\n",
              "       [4, 6]])"
            ]
          },
          "metadata": {
            "tags": []
          },
          "execution_count": 5
        }
      ]
    },
    {
      "cell_type": "code",
      "metadata": {
        "id": "hxOG0jrK0eJw",
        "colab": {
          "base_uri": "https://localhost:8080/",
          "height": 51
        },
        "outputId": "89985b71-6d3b-4fd2-89b4-a6a95e545b67"
      },
      "source": [
        " ary[:, [2, 0]] # first and and last column"
      ],
      "execution_count": null,
      "outputs": [
        {
          "output_type": "execute_result",
          "data": {
            "text/plain": [
              "array([[3, 1],\n",
              "       [6, 4]])"
            ]
          },
          "metadata": {
            "tags": []
          },
          "execution_count": 6
        }
      ]
    },
    {
      "cell_type": "code",
      "metadata": {
        "id": "F3EUfCPg3r_3",
        "colab": {
          "base_uri": "https://localhost:8080/",
          "height": 51
        },
        "outputId": "aa73cf99-865e-4d7f-f8c0-4ad7d4adc2c5"
      },
      "source": [
        "ary = np.array([[1, 2, 3],\n",
        "... [4, 5, 6]])\n",
        "greater3_mask = ary > 3 #retorna \"true\" pra valores maiores que 3\n",
        "greater3_mask"
      ],
      "execution_count": null,
      "outputs": [
        {
          "output_type": "execute_result",
          "data": {
            "text/plain": [
              "array([[False, False, False],\n",
              "       [ True,  True,  True]])"
            ]
          },
          "metadata": {
            "tags": []
          },
          "execution_count": 7
        }
      ]
    },
    {
      "cell_type": "code",
      "metadata": {
        "id": "s1e97OkizRtR",
        "colab": {
          "base_uri": "https://localhost:8080/",
          "height": 34
        },
        "outputId": "0df78a9f-b3d2-48af-87a3-670f78be3c8f"
      },
      "source": [
        "ary[greater3_mask] #retorna os valores maiores que 3"
      ],
      "execution_count": null,
      "outputs": [
        {
          "output_type": "execute_result",
          "data": {
            "text/plain": [
              "array([4, 5, 6])"
            ]
          },
          "metadata": {
            "tags": []
          },
          "execution_count": 8
        }
      ]
    },
    {
      "cell_type": "code",
      "metadata": {
        "id": "eU6cdJHKzg-S",
        "colab": {
          "base_uri": "https://localhost:8080/",
          "height": 34
        },
        "outputId": "b671c3cc-c585-4b91-96bc-29629ac965af"
      },
      "source": [
        "ary[(ary > 3) & (ary % 2 == 0)] #maiores que 3 e divisíveis por 2"
      ],
      "execution_count": null,
      "outputs": [
        {
          "output_type": "execute_result",
          "data": {
            "text/plain": [
              "array([4, 6])"
            ]
          },
          "metadata": {
            "tags": []
          },
          "execution_count": 9
        }
      ]
    },
    {
      "cell_type": "markdown",
      "metadata": {
        "id": "_e-EkJbk0vCx"
      },
      "source": [
        "***Random Number Generators***"
      ]
    },
    {
      "cell_type": "code",
      "metadata": {
        "id": "OJoYOBMY0xcX",
        "colab": {
          "base_uri": "https://localhost:8080/",
          "height": 34
        },
        "outputId": "45e9df21-feaf-42c0-ef82-24308e601353"
      },
      "source": [
        "np.random.seed(123) #gerador de randomicos \n",
        "np.random.rand(3) #quantidade de números\n"
      ],
      "execution_count": null,
      "outputs": [
        {
          "output_type": "execute_result",
          "data": {
            "text/plain": [
              "array([0.69646919, 0.28613933, 0.22685145])"
            ]
          },
          "metadata": {
            "tags": []
          },
          "execution_count": 14
        }
      ]
    },
    {
      "cell_type": "code",
      "metadata": {
        "id": "cuLNf2sCKiq9",
        "colab": {
          "base_uri": "https://localhost:8080/",
          "height": 34
        },
        "outputId": "c3df32fa-871b-4d5d-8c7d-04e0903e798e"
      },
      "source": [
        "rng1 = np.random.RandomState(seed=123)\n",
        "rng1.rand(3)"
      ],
      "execution_count": null,
      "outputs": [
        {
          "output_type": "execute_result",
          "data": {
            "text/plain": [
              "array([0.69646919, 0.28613933, 0.22685145])"
            ]
          },
          "metadata": {
            "tags": []
          },
          "execution_count": 16
        }
      ]
    },
    {
      "cell_type": "markdown",
      "metadata": {
        "id": "IYn5K98AKrFK"
      },
      "source": [
        "***Reshaping Arrays***"
      ]
    },
    {
      "cell_type": "code",
      "metadata": {
        "id": "hykJOLftKttR",
        "colab": {
          "base_uri": "https://localhost:8080/",
          "height": 51
        },
        "outputId": "a8337d56-ab10-437f-b8b1-642dc66f79d6"
      },
      "source": [
        "ary1d = np.array([1, 2, 3, 4, 5, 6])\n",
        "ary2d_view = ary1d.reshape(2, 3)\n",
        "ary2d_view"
      ],
      "execution_count": null,
      "outputs": [
        {
          "output_type": "execute_result",
          "data": {
            "text/plain": [
              "array([[1, 2, 3],\n",
              "       [4, 5, 6]])"
            ]
          },
          "metadata": {
            "tags": []
          },
          "execution_count": 3
        }
      ]
    },
    {
      "cell_type": "code",
      "metadata": {
        "id": "W4fya0rhvT8H",
        "colab": {
          "base_uri": "https://localhost:8080/",
          "height": 34
        },
        "outputId": "d05125d0-9d2e-4c30-93b4-38e31d257e37"
      },
      "source": [
        "np.may_share_memory(ary2d_view, ary1d)"
      ],
      "execution_count": null,
      "outputs": [
        {
          "output_type": "execute_result",
          "data": {
            "text/plain": [
              "True"
            ]
          },
          "metadata": {
            "tags": []
          },
          "execution_count": 4
        }
      ]
    },
    {
      "cell_type": "code",
      "metadata": {
        "id": "uOqua5_vvX5k",
        "colab": {
          "base_uri": "https://localhost:8080/",
          "height": 51
        },
        "outputId": "32f7197e-49f6-4522-c831-9adb922709e1"
      },
      "source": [
        "ary1d.reshape(2, -1)"
      ],
      "execution_count": null,
      "outputs": [
        {
          "output_type": "execute_result",
          "data": {
            "text/plain": [
              "array([[1, 2, 3],\n",
              "       [4, 5, 6]])"
            ]
          },
          "metadata": {
            "tags": []
          },
          "execution_count": 5
        }
      ]
    },
    {
      "cell_type": "code",
      "metadata": {
        "id": "cHqdxEJovby3",
        "colab": {
          "base_uri": "https://localhost:8080/",
          "height": 68
        },
        "outputId": "bbe8d2ba-2bff-4598-94af-82fa876321a1"
      },
      "source": [
        "ary1d.reshape(-1, 2)"
      ],
      "execution_count": null,
      "outputs": [
        {
          "output_type": "execute_result",
          "data": {
            "text/plain": [
              "array([[1, 2],\n",
              "       [3, 4],\n",
              "       [5, 6]])"
            ]
          },
          "metadata": {
            "tags": []
          },
          "execution_count": 6
        }
      ]
    },
    {
      "cell_type": "code",
      "metadata": {
        "id": "0djX7qImvjbv"
      },
      "source": [
        "ary = np.array([[[1, 2, 3],\n",
        "... [4, 5, 6]]])"
      ],
      "execution_count": null,
      "outputs": []
    },
    {
      "cell_type": "code",
      "metadata": {
        "id": "PPNTQGYTvlBH",
        "colab": {
          "base_uri": "https://localhost:8080/",
          "height": 34
        },
        "outputId": "ea289f61-2846-4fb2-d3dc-062fb1f79b59"
      },
      "source": [
        "ary.reshape(-1)"
      ],
      "execution_count": null,
      "outputs": [
        {
          "output_type": "execute_result",
          "data": {
            "text/plain": [
              "array([1, 2, 3, 4, 5, 6])"
            ]
          },
          "metadata": {
            "tags": []
          },
          "execution_count": 8
        }
      ]
    },
    {
      "cell_type": "code",
      "metadata": {
        "id": "APLTEGFRvooO"
      },
      "source": [
        "ary = np.array([1, 2, 3])"
      ],
      "execution_count": null,
      "outputs": []
    },
    {
      "cell_type": "code",
      "metadata": {
        "id": "0-y0o5h6vqbp",
        "colab": {
          "base_uri": "https://localhost:8080/",
          "height": 34
        },
        "outputId": "257a5637-f154-4ba5-c1c1-5d5c3b82100c"
      },
      "source": [
        "# stack along the first axis\n",
        "np.concatenate((ary, ary))"
      ],
      "execution_count": null,
      "outputs": [
        {
          "output_type": "execute_result",
          "data": {
            "text/plain": [
              "array([1, 2, 3, 1, 2, 3])"
            ]
          },
          "metadata": {
            "tags": []
          },
          "execution_count": 10
        }
      ]
    },
    {
      "cell_type": "code",
      "metadata": {
        "id": "6LnDa-2wvusE"
      },
      "source": [
        " ary = np.array([[1, 2, 3]])"
      ],
      "execution_count": null,
      "outputs": []
    },
    {
      "cell_type": "code",
      "metadata": {
        "id": "vSUdbjnLv2kx",
        "colab": {
          "base_uri": "https://localhost:8080/",
          "height": 51
        },
        "outputId": "63b423cb-4086-4a32-bea3-4b5250d3d06f"
      },
      "source": [
        "# stack along the first axis (here: rows)\n",
        "np.concatenate((ary, ary), axis=0)"
      ],
      "execution_count": null,
      "outputs": [
        {
          "output_type": "execute_result",
          "data": {
            "text/plain": [
              "array([[1, 2, 3],\n",
              "       [1, 2, 3]])"
            ]
          },
          "metadata": {
            "tags": []
          },
          "execution_count": 12
        }
      ]
    },
    {
      "cell_type": "code",
      "metadata": {
        "id": "M9pzJ_mfv2a_",
        "colab": {
          "base_uri": "https://localhost:8080/",
          "height": 34
        },
        "outputId": "def25dc0-a527-4bb3-aba2-b3c5fe9f810c"
      },
      "source": [
        "# stack along the second axis (here: column)\n",
        "np.concatenate((ary, ary), axis=1)"
      ],
      "execution_count": null,
      "outputs": [
        {
          "output_type": "execute_result",
          "data": {
            "text/plain": [
              "array([[1, 2, 3, 1, 2, 3]])"
            ]
          },
          "metadata": {
            "tags": []
          },
          "execution_count": 13
        }
      ]
    },
    {
      "cell_type": "markdown",
      "metadata": {
        "id": "lerMeHhswDnR"
      },
      "source": [
        "***Comparison Operators and Masks***"
      ]
    },
    {
      "cell_type": "code",
      "metadata": {
        "id": "aSfmkAr0wFI6",
        "colab": {
          "base_uri": "https://localhost:8080/",
          "height": 34
        },
        "outputId": "064379a8-cdd9-4955-88a3-3618454719b1"
      },
      "source": [
        "ary = np.array([1, 2, 3, 4])\n",
        "mask = ary > 2 #true para todos os masiores\n",
        "mask"
      ],
      "execution_count": null,
      "outputs": [
        {
          "output_type": "execute_result",
          "data": {
            "text/plain": [
              "array([False, False,  True,  True])"
            ]
          },
          "metadata": {
            "tags": []
          },
          "execution_count": 14
        }
      ]
    },
    {
      "cell_type": "code",
      "metadata": {
        "id": "xnPFVBPmwYBC",
        "colab": {
          "base_uri": "https://localhost:8080/",
          "height": 34
        },
        "outputId": "7fc21f4d-19e2-4380-d172-6489f81fe324"
      },
      "source": [
        "ary[mask] #todos que cumpriram a restrição"
      ],
      "execution_count": null,
      "outputs": [
        {
          "output_type": "execute_result",
          "data": {
            "text/plain": [
              "array([3, 4])"
            ]
          },
          "metadata": {
            "tags": []
          },
          "execution_count": 15
        }
      ]
    },
    {
      "cell_type": "code",
      "metadata": {
        "id": "8fkAbOUJwds3",
        "colab": {
          "base_uri": "https://localhost:8080/",
          "height": 34
        },
        "outputId": "97dc20c2-55f8-4520-c658-e5940953dd67"
      },
      "source": [
        "mask.sum() #qtd deles"
      ],
      "execution_count": null,
      "outputs": [
        {
          "output_type": "execute_result",
          "data": {
            "text/plain": [
              "2"
            ]
          },
          "metadata": {
            "tags": []
          },
          "execution_count": 16
        }
      ]
    },
    {
      "cell_type": "code",
      "metadata": {
        "id": "OigK709dwjiY",
        "colab": {
          "base_uri": "https://localhost:8080/",
          "height": 34
        },
        "outputId": "644f1e2d-634d-4c9c-fdef-acafdff850be"
      },
      "source": [
        "np.where(ary > 2, 1, 0) # 1 para os que cumpriram a restrição"
      ],
      "execution_count": null,
      "outputs": [
        {
          "output_type": "execute_result",
          "data": {
            "text/plain": [
              "array([0, 0, 1, 1])"
            ]
          },
          "metadata": {
            "tags": []
          },
          "execution_count": 17
        }
      ]
    },
    {
      "cell_type": "code",
      "metadata": {
        "id": "1gCU0S-0wsSo",
        "colab": {
          "base_uri": "https://localhost:8080/",
          "height": 34
        },
        "outputId": "c65af681-a467-4327-f3a2-0bc0940b35eb"
      },
      "source": [
        "ary = np.array([1, 2, 3, 4])\n",
        "mask = ary > 2\n",
        "ary[mask] = 1\n",
        "ary[~mask] = 0\n",
        "ary"
      ],
      "execution_count": null,
      "outputs": [
        {
          "output_type": "execute_result",
          "data": {
            "text/plain": [
              "array([0, 0, 1, 1])"
            ]
          },
          "metadata": {
            "tags": []
          },
          "execution_count": 18
        }
      ]
    },
    {
      "cell_type": "code",
      "metadata": {
        "id": "GBCrY9X-w5an",
        "colab": {
          "base_uri": "https://localhost:8080/",
          "height": 34
        },
        "outputId": "a3923ae8-b425-4e38-8227-46a6aa46af9c"
      },
      "source": [
        "ary = np.array([1, 2, 3, 4])\n",
        "(ary > 3) | (ary < 2) #retorna de acordo com a condição"
      ],
      "execution_count": null,
      "outputs": [
        {
          "output_type": "execute_result",
          "data": {
            "text/plain": [
              "array([ True, False, False,  True])"
            ]
          },
          "metadata": {
            "tags": []
          },
          "execution_count": 19
        }
      ]
    },
    {
      "cell_type": "code",
      "metadata": {
        "id": "oqegJSKOxGyq",
        "colab": {
          "base_uri": "https://localhost:8080/",
          "height": 34
        },
        "outputId": "dd57d45a-0dbe-4b22-f8d5-5b6c1a2deb18"
      },
      "source": [
        "~((ary > 3) | (ary < 2)) #retorna o contrário da condição, sua negação"
      ],
      "execution_count": null,
      "outputs": [
        {
          "output_type": "execute_result",
          "data": {
            "text/plain": [
              "array([False,  True,  True, False])"
            ]
          },
          "metadata": {
            "tags": []
          },
          "execution_count": 20
        }
      ]
    },
    {
      "cell_type": "markdown",
      "metadata": {
        "id": "mwRoedT-xOzY"
      },
      "source": [
        "*** Linear Algebra with NumPy Arrays***"
      ]
    },
    {
      "cell_type": "code",
      "metadata": {
        "id": "jWQroRFdxNXn",
        "colab": {
          "base_uri": "https://localhost:8080/",
          "height": 34
        },
        "outputId": "b5aa981e-2ed5-44e5-edec-970ce24d80e6"
      },
      "source": [
        "row_vector = np.array([1, 2, 3])\n",
        "row_vector"
      ],
      "execution_count": null,
      "outputs": [
        {
          "output_type": "execute_result",
          "data": {
            "text/plain": [
              "array([1, 2, 3])"
            ]
          },
          "metadata": {
            "tags": []
          },
          "execution_count": 21
        }
      ]
    },
    {
      "cell_type": "code",
      "metadata": {
        "id": "9TP1XwnyxXNv",
        "colab": {
          "base_uri": "https://localhost:8080/",
          "height": 68
        },
        "outputId": "3a2b400e-97a1-44ba-f89d-0a40ddffeea8"
      },
      "source": [
        "column_vector = np.array([[1, 2, 3]]).reshape(-1, 1)\n",
        "column_vector"
      ],
      "execution_count": null,
      "outputs": [
        {
          "output_type": "execute_result",
          "data": {
            "text/plain": [
              "array([[1],\n",
              "       [2],\n",
              "       [3]])"
            ]
          },
          "metadata": {
            "tags": []
          },
          "execution_count": 22
        }
      ]
    },
    {
      "cell_type": "code",
      "metadata": {
        "id": "nE9ih1hU3zVw",
        "colab": {
          "base_uri": "https://localhost:8080/",
          "height": 68
        },
        "outputId": "b247f6fa-a0da-4d8c-cec4-808083700a45"
      },
      "source": [
        "row_vector[:, np.newaxis]"
      ],
      "execution_count": null,
      "outputs": [
        {
          "output_type": "execute_result",
          "data": {
            "text/plain": [
              "array([[1],\n",
              "       [2],\n",
              "       [3]])"
            ]
          },
          "metadata": {
            "tags": []
          },
          "execution_count": 23
        }
      ]
    },
    {
      "cell_type": "code",
      "metadata": {
        "id": "9tYkUZ5x3254",
        "colab": {
          "base_uri": "https://localhost:8080/",
          "height": 68
        },
        "outputId": "01d98a90-dd20-44f0-fd01-3fceb4a6488c"
      },
      "source": [
        "row_vector[:, None]"
      ],
      "execution_count": null,
      "outputs": [
        {
          "output_type": "execute_result",
          "data": {
            "text/plain": [
              "array([[1],\n",
              "       [2],\n",
              "       [3]])"
            ]
          },
          "metadata": {
            "tags": []
          },
          "execution_count": 24
        }
      ]
    },
    {
      "cell_type": "code",
      "metadata": {
        "id": "0oKb6Cyc37CJ"
      },
      "source": [
        "matrix = np.array([[1, 2, 3],\n",
        "... [4, 5, 6]])"
      ],
      "execution_count": null,
      "outputs": []
    },
    {
      "cell_type": "code",
      "metadata": {
        "id": "3ZaJ_hjW38pp",
        "colab": {
          "base_uri": "https://localhost:8080/",
          "height": 51
        },
        "outputId": "e26b4b19-f52a-4c0a-8158-878a2e2c52e5"
      },
      "source": [
        "np.matmul(matrix, column_vector)"
      ],
      "execution_count": null,
      "outputs": [
        {
          "output_type": "execute_result",
          "data": {
            "text/plain": [
              "array([[14],\n",
              "       [32]])"
            ]
          },
          "metadata": {
            "tags": []
          },
          "execution_count": 26
        }
      ]
    },
    {
      "cell_type": "code",
      "metadata": {
        "id": "2NCihrLy3_zF",
        "colab": {
          "base_uri": "https://localhost:8080/",
          "height": 34
        },
        "outputId": "e2676bab-d23a-4ea5-f273-9ba90dfb6059"
      },
      "source": [
        "np.matmul(matrix, row_vector)"
      ],
      "execution_count": null,
      "outputs": [
        {
          "output_type": "execute_result",
          "data": {
            "text/plain": [
              "array([14, 32])"
            ]
          },
          "metadata": {
            "tags": []
          },
          "execution_count": 27
        }
      ]
    },
    {
      "cell_type": "code",
      "metadata": {
        "id": "WEV0ODpq4CBO",
        "colab": {
          "base_uri": "https://localhost:8080/",
          "height": 34
        },
        "outputId": "58c29cdb-79b6-4dbf-cf55-521ac7bc12ca"
      },
      "source": [
        "np.matmul(row_vector, row_vector)"
      ],
      "execution_count": null,
      "outputs": [
        {
          "output_type": "execute_result",
          "data": {
            "text/plain": [
              "14"
            ]
          },
          "metadata": {
            "tags": []
          },
          "execution_count": 28
        }
      ]
    },
    {
      "cell_type": "code",
      "metadata": {
        "id": "Dz24lXge4EJt",
        "colab": {
          "base_uri": "https://localhost:8080/",
          "height": 34
        },
        "outputId": "5a2bfcde-06ce-4a33-9e63-e4b39ec20fbc"
      },
      "source": [
        "np.dot(row_vector, row_vector)"
      ],
      "execution_count": null,
      "outputs": [
        {
          "output_type": "execute_result",
          "data": {
            "text/plain": [
              "14"
            ]
          },
          "metadata": {
            "tags": []
          },
          "execution_count": 29
        }
      ]
    },
    {
      "cell_type": "code",
      "metadata": {
        "id": "C2M55y134Id1",
        "colab": {
          "base_uri": "https://localhost:8080/",
          "height": 34
        },
        "outputId": "bd281d68-d1ca-4100-99bc-09135f885abd"
      },
      "source": [
        " np.dot(matrix, row_vector)"
      ],
      "execution_count": null,
      "outputs": [
        {
          "output_type": "execute_result",
          "data": {
            "text/plain": [
              "array([14, 32])"
            ]
          },
          "metadata": {
            "tags": []
          },
          "execution_count": 30
        }
      ]
    },
    {
      "cell_type": "code",
      "metadata": {
        "id": "BPBMRq0T4MbS",
        "colab": {
          "base_uri": "https://localhost:8080/",
          "height": 51
        },
        "outputId": "5aa718b9-6d23-41ec-fd59-2fa43112b202"
      },
      "source": [
        "np.dot(matrix, column_vector)"
      ],
      "execution_count": null,
      "outputs": [
        {
          "output_type": "execute_result",
          "data": {
            "text/plain": [
              "array([[14],\n",
              "       [32]])"
            ]
          },
          "metadata": {
            "tags": []
          },
          "execution_count": 32
        }
      ]
    },
    {
      "cell_type": "code",
      "metadata": {
        "id": "YDrHoG0C4RKS"
      },
      "source": [
        "matrix = np.array([[1, 2, 3],\n",
        "... [4, 5, 6]])"
      ],
      "execution_count": null,
      "outputs": []
    },
    {
      "cell_type": "code",
      "metadata": {
        "id": "6WUf9wzT4S1G",
        "colab": {
          "base_uri": "https://localhost:8080/",
          "height": 68
        },
        "outputId": "0c57d623-9f3d-42f2-e966-d158342fad5f"
      },
      "source": [
        "matrix.transpose()"
      ],
      "execution_count": null,
      "outputs": [
        {
          "output_type": "execute_result",
          "data": {
            "text/plain": [
              "array([[1, 4],\n",
              "       [2, 5],\n",
              "       [3, 6]])"
            ]
          },
          "metadata": {
            "tags": []
          },
          "execution_count": 34
        }
      ]
    },
    {
      "cell_type": "code",
      "metadata": {
        "id": "zft64WFf4VW0",
        "colab": {
          "base_uri": "https://localhost:8080/",
          "height": 51
        },
        "outputId": "24ec2ed1-97a7-49ec-d083-aa74bddbec08"
      },
      "source": [
        "np.matmul(matrix, matrix.transpose())"
      ],
      "execution_count": null,
      "outputs": [
        {
          "output_type": "execute_result",
          "data": {
            "text/plain": [
              "array([[14, 32],\n",
              "       [32, 77]])"
            ]
          },
          "metadata": {
            "tags": []
          },
          "execution_count": 35
        }
      ]
    },
    {
      "cell_type": "code",
      "metadata": {
        "id": "iuu2neq94abK",
        "colab": {
          "base_uri": "https://localhost:8080/",
          "height": 68
        },
        "outputId": "b10f0a83-4a93-4759-f07a-90097fb968bb"
      },
      "source": [
        "matrix.T"
      ],
      "execution_count": null,
      "outputs": [
        {
          "output_type": "execute_result",
          "data": {
            "text/plain": [
              "array([[1, 4],\n",
              "       [2, 5],\n",
              "       [3, 6]])"
            ]
          },
          "metadata": {
            "tags": []
          },
          "execution_count": 37
        }
      ]
    },
    {
      "cell_type": "markdown",
      "metadata": {
        "id": "UxvnRKBi4hcw"
      },
      "source": [
        "***Matplotlib***"
      ]
    },
    {
      "cell_type": "code",
      "metadata": {
        "id": "m-aJs8174zXE"
      },
      "source": [
        "%matplotlib inline\n",
        "import matplotlib.pyplot as plt"
      ],
      "execution_count": null,
      "outputs": []
    },
    {
      "cell_type": "code",
      "metadata": {
        "id": "vgI8QeUK41zO",
        "colab": {
          "base_uri": "https://localhost:8080/",
          "height": 265
        },
        "outputId": "45405246-e0f2-409f-e267-1989ab7d0cc5"
      },
      "source": [
        "x = np.linspace(0, 10, 100)\n",
        "plt.plot(x, np.sin(x))\n",
        "plt.show()"
      ],
      "execution_count": null,
      "outputs": [
        {
          "output_type": "display_data",
          "data": {
            "image/png": "[encoded data removed]",
            "text/plain": [
              "<Figure size 432x288 with 1 Axes>"
            ]
          },
          "metadata": {
            "tags": []
          }
        }
      ]
    },
    {
      "cell_type": "code",
      "metadata": {
        "id": "hftTZA7843xy"
      },
      "source": [
        "x = np.linspace(0, 10, 100)"
      ],
      "execution_count": null,
      "outputs": []
    },
    {
      "cell_type": "code",
      "metadata": {
        "id": "u41uwuWg5BVZ",
        "colab": {
          "base_uri": "https://localhost:8080/",
          "height": 296
        },
        "outputId": "3337a549-b0f3-4e7d-b72b-ed61ecdf4463"
      },
      "source": [
        "plt.plot(x, np.sin(x))\n",
        "plt.xlim([2, 8])\n",
        "plt.ylim([0, 0.75])\n",
        "plt.xlabel('x-axis')\n",
        "plt.ylabel('y-axis')"
      ],
      "execution_count": null,
      "outputs": [
        {
          "output_type": "execute_result",
          "data": {
            "text/plain": [
              "Text(0, 0.5, 'y-axis')"
            ]
          },
          "metadata": {
            "tags": []
          },
          "execution_count": 49
        },
        {
          "output_type": "display_data",
          "data": {
            "image/png": "[encoded data removed]",
            "text/plain": [
              "<Figure size 432x288 with 1 Axes>"
            ]
          },
          "metadata": {
            "tags": []
          }
        }
      ]
    },
    {
      "cell_type": "code",
      "metadata": {
        "id": "E5TgOotz5XKi",
        "colab": {
          "base_uri": "https://localhost:8080/",
          "height": 296
        },
        "outputId": "4ab161ba-a61d-40f1-80cf-a9b6e321dacf"
      },
      "source": [
        "x = np.linspace(0, 10, 100)\n",
        "plt.plot(x, np.sin(x), label=('sin(x)'))\n",
        "plt.plot(x, np.cos(x), label=('cos(x)'))\n",
        "plt.ylabel('f(x)')\n",
        "plt.xlabel('x')\n",
        "plt.legend(loc='lower left')"
      ],
      "execution_count": null,
      "outputs": [
        {
          "output_type": "execute_result",
          "data": {
            "text/plain": [
              "<matplotlib.legend.Legend at 0x7fcb4f4aebe0>"
            ]
          },
          "metadata": {
            "tags": []
          },
          "execution_count": 54
        },
        {
          "output_type": "display_data",
          "data": {
            "image/png": "[encoded data removed]",
            "text/plain": [
              "<Figure size 432x288 with 1 Axes>"
            ]
          },
          "metadata": {
            "tags": []
          }
        }
      ]
    },
    {
      "cell_type": "markdown",
      "metadata": {
        "id": "HtmBOLri5oQu"
      },
      "source": [
        "*** Scatter Plots***"
      ]
    },
    {
      "cell_type": "code",
      "metadata": {
        "id": "zcduAzgq5s6M",
        "colab": {
          "base_uri": "https://localhost:8080/",
          "height": 265
        },
        "outputId": "26a53b10-5200-4ae9-d88a-888d5aacb8e7"
      },
      "source": [
        "rng = np.random.RandomState(123)\n",
        "x = rng.normal(size=500)\n",
        "y = rng.normal(size=500)\n",
        "plt.scatter(x, y)\n",
        "plt.show()"
      ],
      "execution_count": null,
      "outputs": [
        {
          "output_type": "display_data",
          "data": {
            "image/png": "[encoded data removed]",
            "text/plain": [
              "<Figure size 432x288 with 1 Axes>"
            ]
          },
          "metadata": {
            "tags": []
          }
        }
      ]
    },
    {
      "cell_type": "markdown",
      "metadata": {
        "id": "DWajvDZg5zG7"
      },
      "source": [
        "***Bar Plots***"
      ]
    },
    {
      "cell_type": "code",
      "metadata": {
        "id": "W7WTajEc51sx",
        "colab": {
          "base_uri": "https://localhost:8080/",
          "height": 265
        },
        "outputId": "b947f79f-c451-4fcc-bd60-0a2625350124"
      },
      "source": [
        "# input data\n",
        "means = [1, 2, 3]\n",
        "stddevs = [0.2, 0.4, 0.5]\n",
        "bar_labels = ['bar 1', 'bar 2', 'bar 3']\n",
        "# plot bars\n",
        "x_pos = list(range(len(bar_labels)))\n",
        "plt.bar(x_pos, means, yerr=stddevs)\n",
        "plt.show()"
      ],
      "execution_count": null,
      "outputs": [
        {
          "output_type": "display_data",
          "data": {
            "image/png": "[encoded data removed]",
            "text/plain": [
              "<Figure size 432x288 with 1 Axes>"
            ]
          },
          "metadata": {
            "tags": []
          }
        }
      ]
    },
    {
      "cell_type": "markdown",
      "metadata": {
        "id": "kgX0XbsT58Qr"
      },
      "source": [
        "***Histograms***"
      ]
    },
    {
      "cell_type": "code",
      "metadata": {
        "id": "u8MIsagD5-ox",
        "colab": {
          "base_uri": "https://localhost:8080/",
          "height": 265
        },
        "outputId": "86fdd044-547e-4152-f96c-db0882f368dc"
      },
      "source": [
        "rng = np.random.RandomState(123)\n",
        "x = rng.normal(0, 20, 1000)\n",
        "# fixed bin size\n",
        "bins = np.arange(-100, 100, 5) # fixed bin size\n",
        "plt.hist(x, bins=bins)\n",
        "plt.show()"
      ],
      "execution_count": null,
      "outputs": [
        {
          "output_type": "display_data",
          "data": {
            "image/png": "[encoded data removed]",
            "text/plain": [
              "<Figure size 432x288 with 1 Axes>"
            ]
          },
          "metadata": {
            "tags": []
          }
        }
      ]
    },
    {
      "cell_type": "code",
      "metadata": {
        "id": "JkJJgHoM6CJv",
        "colab": {
          "base_uri": "https://localhost:8080/",
          "height": 265
        },
        "outputId": "d17eaaed-f5c7-473c-b8f3-daf0fee152d2"
      },
      "source": [
        "rng = np.random.RandomState(123)\n",
        "x1 = rng.normal(0, 20, 1000)\n",
        "x2 = rng.normal(15, 10, 1000)\n",
        "# fixed bin size\n",
        "bins = np.arange(-100, 100, 5) # fixed bin size\n",
        "plt.hist(x1, bins=bins, alpha=0.5)\n",
        "plt.hist(x2, bins=bins, alpha=0.5)\n",
        "plt.show()"
      ],
      "execution_count": null,
      "outputs": [
        {
          "output_type": "display_data",
          "data": {
            "image/png": "[encoded data removed]",
            "text/plain": [
              "<Figure size 432x288 with 1 Axes>"
            ]
          },
          "metadata": {
            "tags": []
          }
        }
      ]
    },
    {
      "cell_type": "markdown",
      "metadata": {
        "id": "wf3TlHc76JYY"
      },
      "source": [
        "***Subplots***"
      ]
    },
    {
      "cell_type": "code",
      "metadata": {
        "id": "GllW_WWc6ML1",
        "colab": {
          "base_uri": "https://localhost:8080/",
          "height": 265
        },
        "outputId": "3ba9e1f6-a76e-4940-fe97-587d4ad103bf"
      },
      "source": [
        "import matplotlib.pyplot as plt\n",
        "x = range(11)\n",
        "y = range(11)\n",
        "fig, ax = plt.subplots(nrows=2, ncols=3, sharex=True, sharey=True)\n",
        "for row in ax:\n",
        "  for col in row:\n",
        "    col.plot(x, y)\n",
        "plt.show()"
      ],
      "execution_count": null,
      "outputs": [
        {
          "output_type": "display_data",
          "data": {
            "image/png": "[encoded data removed]",
            "text/plain": [
              "<Figure size 432x288 with 6 Axes>"
            ]
          },
          "metadata": {
            "tags": []
          }
        }
      ]
    },
    {
      "cell_type": "markdown",
      "metadata": {
        "id": "cu6guXji6dQa"
      },
      "source": [
        "***Colors and Markers***"
      ]
    },
    {
      "cell_type": "code",
      "metadata": {
        "id": "sDEa5bgW6hWq",
        "colab": {
          "base_uri": "https://localhost:8080/",
          "height": 265
        },
        "outputId": "caf94e21-d503-4d7a-b52f-e5bf3d307ecf"
      },
      "source": [
        "x = np.linspace(0, 10, 100)\n",
        "plt.plot(x, np.sin(x),\n",
        "color='orange',\n",
        "marker='^',\n",
        "linestyle='')\n",
        "plt.show()"
      ],
      "execution_count": null,
      "outputs": [
        {
          "output_type": "display_data",
          "data": {
            "image/png": "[encoded data removed]",
            "text/plain": [
              "<Figure size 432x288 with 1 Axes>"
            ]
          },
          "metadata": {
            "tags": []
          }
        }
      ]
    },
    {
      "cell_type": "markdown",
      "metadata": {
        "id": "je_pnM0M6zBw"
      },
      "source": [
        "***Saving Plots***"
      ]
    },
    {
      "cell_type": "code",
      "metadata": {
        "id": "hR2wO27f6yv1",
        "colab": {
          "base_uri": "https://localhost:8080/",
          "height": 265
        },
        "outputId": "aca7ff38-7fb6-4743-b4e1-14be759af763"
      },
      "source": [
        "x = np.linspace(0, 10, 100)\n",
        "plt.plot(x, np.sin(x))\n",
        "plt.savefig('myplot.png', dpi=300)\n",
        "plt.savefig('myplot.pdf')\n",
        "plt.show()"
      ],
      "execution_count": null,
      "outputs": [
        {
          "output_type": "display_data",
          "data": {
            "image/png": "[encoded data removed]",
            "text/plain": [
              "<Figure size 432x288 with 1 Axes>"
            ]
          },
          "metadata": {
            "tags": []
          }
        }
      ]
    }
  ]
}