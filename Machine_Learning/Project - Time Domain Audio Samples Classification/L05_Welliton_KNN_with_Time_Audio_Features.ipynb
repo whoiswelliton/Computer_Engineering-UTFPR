{
  "nbformat": 4,
  "nbformat_minor": 0,
  "metadata": {
    "colab": {
      "name": "L05 Welliton - KNN with Time Audio Features.ipynb",
      "provenance": [],
      "collapsed_sections": []
    },
    "kernelspec": {
      "name": "python3",
      "display_name": "Python 3"
    },
    "accelerator": "GPU"
  },
  "cells": [
    {
      "cell_type": "code",
      "metadata": {
        "id": "zVh6icp6TBsf"
      },
      "source": [
        "import os\n",
        "import random\n",
        "import librosa\n",
        "import scipy\n",
        "import numpy as np\n",
        "import pandas as pd\n",
        "import sklearn\n",
        "from sklearn.preprocessing import StandardScaler\n",
        "from sklearn.neighbors import KNeighborsClassifier\n",
        "from sklearn.model_selection import train_test_split\n",
        "from sklearn.metrics import accuracy_score\n",
        "from sklearn.impute import SimpleImputer\n",
        "from mlxtend.plotting import plot_decision_regions\n",
        "from scipy.linalg import norm\n",
        "\n",
        "#visualização\n",
        "import seaborn\n",
        "import librosa.display\n",
        "import IPython.display as ipd\n",
        "import matplotlib.pyplot as plt"
      ],
      "execution_count": null,
      "outputs": []
    },
    {
      "cell_type": "code",
      "metadata": {
        "id": "Z6da7FZVTYJ-",
        "colab": {
          "base_uri": "https://localhost:8080/",
          "height": 35
        },
        "outputId": "57f0e3ff-2f89-40b4-8e99-8a503c937e73"
      },
      "source": [
        "from google.colab import drive\n",
        "drive.mount('/content/drive')"
      ],
      "execution_count": null,
      "outputs": [
        {
          "output_type": "stream",
          "text": [
            "Mounted at /content/drive\n"
          ],
          "name": "stdout"
        }
      ]
    },
    {
      "cell_type": "markdown",
      "metadata": {
        "id": "-taHMJQZpkDu"
      },
      "source": [
        "# **Dataset e Pré-Processamento**"
      ]
    },
    {
      "cell_type": "code",
      "metadata": {
        "id": "j2nAcu-AVaj5"
      },
      "source": [
        "df_audio = pd.read_csv('/content/drive/My Drive/Audio Dataset/timeaudiofeatures1.csv')"
      ],
      "execution_count": null,
      "outputs": []
    },
    {
      "cell_type": "code",
      "metadata": {
        "id": "yLChsCHKvdAE",
        "colab": {
          "base_uri": "https://localhost:8080/"
        },
        "outputId": "d0fed2be-8551-4d02-93aa-16e4578cf827"
      },
      "source": [
        "df_audio.shape"
      ],
      "execution_count": null,
      "outputs": [
        {
          "output_type": "execute_result",
          "data": {
            "text/plain": [
              "(500, 7)"
            ]
          },
          "metadata": {
            "tags": []
          },
          "execution_count": 6
        }
      ]
    },
    {
      "cell_type": "code",
      "metadata": {
        "id": "d_Xo9g_JvHtD",
        "colab": {
          "base_uri": "https://localhost:8080/"
        },
        "outputId": "a34e42c0-7fae-4479-b84b-e13557675d12"
      },
      "source": [
        "df_audio[95:105]"
      ],
      "execution_count": null,
      "outputs": [
        {
          "output_type": "execute_result",
          "data": {
            "text/html": [
              "<div>\n",
              "<style scoped>\n",
              "    .dataframe tbody tr th:only-of-type {\n",
              "        vertical-align: middle;\n",
              "    }\n",
              "\n",
              "    .dataframe tbody tr th {\n",
              "        vertical-align: top;\n",
              "    }\n",
              "\n",
              "    .dataframe thead th {\n",
              "        text-align: right;\n",
              "    }\n",
              "</style>\n",
              "<table border=\"1\" class=\"dataframe\">\n",
              "  <thead>\n",
              "    <tr style=\"text-align: right;\">\n",
              "      <th></th>\n",
              "      <th>AMP</th>\n",
              "      <th>RMS</th>\n",
              "      <th>ZCR</th>\n",
              "      <th>FREQ. RANGE</th>\n",
              "      <th>TIME DECAY</th>\n",
              "      <th>SOURCE</th>\n",
              "      <th>CLASS</th>\n",
              "    </tr>\n",
              "  </thead>\n",
              "  <tbody>\n",
              "    <tr>\n",
              "      <th>95</th>\n",
              "      <td>0.376850</td>\n",
              "      <td>0.274201</td>\n",
              "      <td>70.0</td>\n",
              "      <td>Low</td>\n",
              "      <td>Slow</td>\n",
              "      <td>Synthesized</td>\n",
              "      <td>KICK</td>\n",
              "    </tr>\n",
              "    <tr>\n",
              "      <th>96</th>\n",
              "      <td>0.386825</td>\n",
              "      <td>0.267010</td>\n",
              "      <td>62.0</td>\n",
              "      <td>Low</td>\n",
              "      <td>Slow</td>\n",
              "      <td>Synthesized</td>\n",
              "      <td>KICK</td>\n",
              "    </tr>\n",
              "    <tr>\n",
              "      <th>97</th>\n",
              "      <td>0.372225</td>\n",
              "      <td>0.266065</td>\n",
              "      <td>60.0</td>\n",
              "      <td>Low</td>\n",
              "      <td>Slow</td>\n",
              "      <td>Synthesized</td>\n",
              "      <td>KICK</td>\n",
              "    </tr>\n",
              "    <tr>\n",
              "      <th>98</th>\n",
              "      <td>0.301200</td>\n",
              "      <td>0.220625</td>\n",
              "      <td>242.0</td>\n",
              "      <td>Low</td>\n",
              "      <td>Slow</td>\n",
              "      <td>Synthesized</td>\n",
              "      <td>KICK</td>\n",
              "    </tr>\n",
              "    <tr>\n",
              "      <th>99</th>\n",
              "      <td>0.549655</td>\n",
              "      <td>0.402491</td>\n",
              "      <td>41.0</td>\n",
              "      <td>Low</td>\n",
              "      <td>Slow</td>\n",
              "      <td>Synthesized</td>\n",
              "      <td>KICK</td>\n",
              "    </tr>\n",
              "    <tr>\n",
              "      <th>100</th>\n",
              "      <td>0.395515</td>\n",
              "      <td>0.179657</td>\n",
              "      <td>1412.0</td>\n",
              "      <td>Mid</td>\n",
              "      <td>Fast</td>\n",
              "      <td>Acoustic</td>\n",
              "      <td>SNARE</td>\n",
              "    </tr>\n",
              "    <tr>\n",
              "      <th>101</th>\n",
              "      <td>0.113857</td>\n",
              "      <td>0.073737</td>\n",
              "      <td>2447.0</td>\n",
              "      <td>Mid</td>\n",
              "      <td>Fast</td>\n",
              "      <td>Acoustic</td>\n",
              "      <td>SNARE</td>\n",
              "    </tr>\n",
              "    <tr>\n",
              "      <th>102</th>\n",
              "      <td>0.251307</td>\n",
              "      <td>0.143347</td>\n",
              "      <td>2184.0</td>\n",
              "      <td>Mid</td>\n",
              "      <td>Fast</td>\n",
              "      <td>Acoustic</td>\n",
              "      <td>SNARE</td>\n",
              "    </tr>\n",
              "    <tr>\n",
              "      <th>103</th>\n",
              "      <td>0.218819</td>\n",
              "      <td>0.146280</td>\n",
              "      <td>2334.0</td>\n",
              "      <td>Mid</td>\n",
              "      <td>Fast</td>\n",
              "      <td>Acoustic</td>\n",
              "      <td>SNARE</td>\n",
              "    </tr>\n",
              "    <tr>\n",
              "      <th>104</th>\n",
              "      <td>0.105065</td>\n",
              "      <td>0.050878</td>\n",
              "      <td>3789.0</td>\n",
              "      <td>Mid</td>\n",
              "      <td>Fast</td>\n",
              "      <td>Acoustic</td>\n",
              "      <td>SNARE</td>\n",
              "    </tr>\n",
              "  </tbody>\n",
              "</table>\n",
              "</div>"
            ],
            "text/plain": [
              "          AMP       RMS     ZCR FREQ. RANGE TIME DECAY       SOURCE  CLASS\n",
              "95   0.376850  0.274201    70.0         Low       Slow  Synthesized   KICK\n",
              "96   0.386825  0.267010    62.0         Low       Slow  Synthesized   KICK\n",
              "97   0.372225  0.266065    60.0         Low       Slow  Synthesized   KICK\n",
              "98   0.301200  0.220625   242.0         Low       Slow  Synthesized   KICK\n",
              "99   0.549655  0.402491    41.0         Low       Slow  Synthesized   KICK\n",
              "100  0.395515  0.179657  1412.0         Mid       Fast     Acoustic  SNARE\n",
              "101  0.113857  0.073737  2447.0         Mid       Fast     Acoustic  SNARE\n",
              "102  0.251307  0.143347  2184.0         Mid       Fast     Acoustic  SNARE\n",
              "103  0.218819  0.146280  2334.0         Mid       Fast     Acoustic  SNARE\n",
              "104  0.105065  0.050878  3789.0         Mid       Fast     Acoustic  SNARE"
            ]
          },
          "metadata": {
            "tags": []
          },
          "execution_count": 7
        }
      ]
    },
    {
      "cell_type": "markdown",
      "metadata": {
        "id": "iK9ZURBap-Av"
      },
      "source": [
        "CLASSES:\n",
        "- Kick = 0\n",
        "- Snare = 1\n",
        "- Clap = 2\n",
        "- Tom = 3\n",
        "- Closed Hihat = 4"
      ]
    },
    {
      "cell_type": "markdown",
      "metadata": {
        "id": "PwKPFDS_qLgC"
      },
      "source": [
        "TIPOS DE FEATURES:\n",
        "1. *Valores Discretos* = **Zero-Crossing Rate**, Número de vezes que o sinal atravessa o valor zero por causa de uma oscilação\n",
        "\n",
        "2. *Valores Contínuos* = **Root-Mean Square**, Valores médios de um sinal\n",
        "\n",
        "3. *Valores Contínuos* = **Amplitude Envelope**, Valores máximos que representam os picos do sinal\n",
        "\n",
        "4. *Valores Categóricos Ordinais* = **Low = 0 | Mid = 0.5 | High = 1**, Localização e faixa de alcance no domínio da frequência\n",
        "\n",
        "5. *Valores Categóricos Ordinais* = **Fast = 0 | Slow = 1**, parâmetro que avalia o quão rápido o sinal decai  \n",
        "\n",
        "6. *Valores Categóricos Nominais* = **Synthesized = 0 | Acoustic = 0.5 | Natural = 1**, Fonte sonora proveniente, se foi sintetizada, gerado de um instrumento ou uma fonte natural"
      ]
    },
    {
      "cell_type": "markdown",
      "metadata": {
        "id": "8VIfd_savQgm"
      },
      "source": [
        "**- CONVERTENDO CLASSES & VARIÁVEIS CATEGÓRICAS ORDINAIS**"
      ]
    },
    {
      "cell_type": "code",
      "metadata": {
        "id": "ro46gOimp1F6"
      },
      "source": [
        "df_mod = df_audio\n",
        "\n",
        "f = {'Low': 0, 'Mid': 1, 'High': 2}\n",
        "t = {'Slow': 0, 'Fast': 1}\n",
        "c = {'KICK': 0, 'SNARE': 1, 'CLAP': 2, 'TOM': 3, 'CLS HIHAT': 4}\n",
        "\n",
        "df_mod['FREQ. RANGE'] = df_mod['FREQ. RANGE'].map(f)\n",
        "df_mod['TIME DECAY'] = df_mod['TIME DECAY'].map(t)\n",
        "df_mod['CLASS'] = df_mod['CLASS'].map(c)"
      ],
      "execution_count": null,
      "outputs": []
    },
    {
      "cell_type": "code",
      "metadata": {
        "id": "lhb4GvuBt-47",
        "colab": {
          "base_uri": "https://localhost:8080/"
        },
        "outputId": "f192e2f4-a028-4094-959d-534dfc42de88"
      },
      "source": [
        "df_mod[295:305]"
      ],
      "execution_count": null,
      "outputs": [
        {
          "output_type": "execute_result",
          "data": {
            "text/html": [
              "<div>\n",
              "<style scoped>\n",
              "    .dataframe tbody tr th:only-of-type {\n",
              "        vertical-align: middle;\n",
              "    }\n",
              "\n",
              "    .dataframe tbody tr th {\n",
              "        vertical-align: top;\n",
              "    }\n",
              "\n",
              "    .dataframe thead th {\n",
              "        text-align: right;\n",
              "    }\n",
              "</style>\n",
              "<table border=\"1\" class=\"dataframe\">\n",
              "  <thead>\n",
              "    <tr style=\"text-align: right;\">\n",
              "      <th></th>\n",
              "      <th>AMP</th>\n",
              "      <th>RMS</th>\n",
              "      <th>ZCR</th>\n",
              "      <th>FREQ. RANGE</th>\n",
              "      <th>TIME DECAY</th>\n",
              "      <th>SOURCE</th>\n",
              "      <th>CLASS</th>\n",
              "    </tr>\n",
              "  </thead>\n",
              "  <tbody>\n",
              "    <tr>\n",
              "      <th>295</th>\n",
              "      <td>0.150441</td>\n",
              "      <td>0.054951</td>\n",
              "      <td>3165.0</td>\n",
              "      <td>1.0</td>\n",
              "      <td>1.0</td>\n",
              "      <td>Natural</td>\n",
              "      <td>2</td>\n",
              "    </tr>\n",
              "    <tr>\n",
              "      <th>296</th>\n",
              "      <td>0.341565</td>\n",
              "      <td>0.117422</td>\n",
              "      <td>4119.0</td>\n",
              "      <td>1.0</td>\n",
              "      <td>1.0</td>\n",
              "      <td>Natural</td>\n",
              "      <td>2</td>\n",
              "    </tr>\n",
              "    <tr>\n",
              "      <th>297</th>\n",
              "      <td>0.128695</td>\n",
              "      <td>0.046633</td>\n",
              "      <td>5639.0</td>\n",
              "      <td>1.0</td>\n",
              "      <td>1.0</td>\n",
              "      <td>Natural</td>\n",
              "      <td>2</td>\n",
              "    </tr>\n",
              "    <tr>\n",
              "      <th>298</th>\n",
              "      <td>0.230720</td>\n",
              "      <td>0.078490</td>\n",
              "      <td>3552.0</td>\n",
              "      <td>1.0</td>\n",
              "      <td>1.0</td>\n",
              "      <td>Natural</td>\n",
              "      <td>2</td>\n",
              "    </tr>\n",
              "    <tr>\n",
              "      <th>299</th>\n",
              "      <td>0.293053</td>\n",
              "      <td>0.093872</td>\n",
              "      <td>746.0</td>\n",
              "      <td>1.0</td>\n",
              "      <td>1.0</td>\n",
              "      <td>Natural</td>\n",
              "      <td>2</td>\n",
              "    </tr>\n",
              "    <tr>\n",
              "      <th>300</th>\n",
              "      <td>0.065784</td>\n",
              "      <td>0.043514</td>\n",
              "      <td>197.0</td>\n",
              "      <td>0.0</td>\n",
              "      <td>0.0</td>\n",
              "      <td>Acoustic</td>\n",
              "      <td>3</td>\n",
              "    </tr>\n",
              "    <tr>\n",
              "      <th>301</th>\n",
              "      <td>0.070583</td>\n",
              "      <td>0.040046</td>\n",
              "      <td>190.0</td>\n",
              "      <td>0.0</td>\n",
              "      <td>0.0</td>\n",
              "      <td>Acoustic</td>\n",
              "      <td>3</td>\n",
              "    </tr>\n",
              "    <tr>\n",
              "      <th>302</th>\n",
              "      <td>0.060259</td>\n",
              "      <td>0.032513</td>\n",
              "      <td>267.0</td>\n",
              "      <td>0.0</td>\n",
              "      <td>0.0</td>\n",
              "      <td>Acoustic</td>\n",
              "      <td>3</td>\n",
              "    </tr>\n",
              "    <tr>\n",
              "      <th>303</th>\n",
              "      <td>0.087752</td>\n",
              "      <td>0.057360</td>\n",
              "      <td>270.0</td>\n",
              "      <td>0.0</td>\n",
              "      <td>0.0</td>\n",
              "      <td>Acoustic</td>\n",
              "      <td>3</td>\n",
              "    </tr>\n",
              "    <tr>\n",
              "      <th>304</th>\n",
              "      <td>0.091063</td>\n",
              "      <td>0.057556</td>\n",
              "      <td>136.0</td>\n",
              "      <td>0.0</td>\n",
              "      <td>0.0</td>\n",
              "      <td>Acoustic</td>\n",
              "      <td>3</td>\n",
              "    </tr>\n",
              "  </tbody>\n",
              "</table>\n",
              "</div>"
            ],
            "text/plain": [
              "          AMP       RMS     ZCR  FREQ. RANGE  TIME DECAY    SOURCE  CLASS\n",
              "295  0.150441  0.054951  3165.0          1.0         1.0   Natural      2\n",
              "296  0.341565  0.117422  4119.0          1.0         1.0   Natural      2\n",
              "297  0.128695  0.046633  5639.0          1.0         1.0   Natural      2\n",
              "298  0.230720  0.078490  3552.0          1.0         1.0   Natural      2\n",
              "299  0.293053  0.093872   746.0          1.0         1.0   Natural      2\n",
              "300  0.065784  0.043514   197.0          0.0         0.0  Acoustic      3\n",
              "301  0.070583  0.040046   190.0          0.0         0.0  Acoustic      3\n",
              "302  0.060259  0.032513   267.0          0.0         0.0  Acoustic      3\n",
              "303  0.087752  0.057360   270.0          0.0         0.0  Acoustic      3\n",
              "304  0.091063  0.057556   136.0          0.0         0.0  Acoustic      3"
            ]
          },
          "metadata": {
            "tags": []
          },
          "execution_count": 9
        }
      ]
    },
    {
      "cell_type": "markdown",
      "metadata": {
        "id": "W6zxMcr9mzvm"
      },
      "source": [
        "**- CONVERTENDO VARIÁVEIS CATEGÓRICAS NOMINAIS (One-Hot Encoding)**"
      ]
    },
    {
      "cell_type": "code",
      "metadata": {
        "id": "TDu1yzfXl1QR",
        "colab": {
          "base_uri": "https://localhost:8080/"
        },
        "outputId": "6c11f7a0-6278-4c60-95c7-6d945f757efe"
      },
      "source": [
        "pd.get_dummies(df_mod)"
      ],
      "execution_count": null,
      "outputs": [
        {
          "output_type": "execute_result",
          "data": {
            "text/html": [
              "<div>\n",
              "<style scoped>\n",
              "    .dataframe tbody tr th:only-of-type {\n",
              "        vertical-align: middle;\n",
              "    }\n",
              "\n",
              "    .dataframe tbody tr th {\n",
              "        vertical-align: top;\n",
              "    }\n",
              "\n",
              "    .dataframe thead th {\n",
              "        text-align: right;\n",
              "    }\n",
              "</style>\n",
              "<table border=\"1\" class=\"dataframe\">\n",
              "  <thead>\n",
              "    <tr style=\"text-align: right;\">\n",
              "      <th></th>\n",
              "      <th>AMP</th>\n",
              "      <th>RMS</th>\n",
              "      <th>ZCR</th>\n",
              "      <th>FREQ. RANGE</th>\n",
              "      <th>TIME DECAY</th>\n",
              "      <th>CLASS</th>\n",
              "      <th>SOURCE_Acoustic</th>\n",
              "      <th>SOURCE_Natural</th>\n",
              "      <th>SOURCE_Synthesized</th>\n",
              "    </tr>\n",
              "  </thead>\n",
              "  <tbody>\n",
              "    <tr>\n",
              "      <th>0</th>\n",
              "      <td>0.504545</td>\n",
              "      <td>0.367265</td>\n",
              "      <td>154.0</td>\n",
              "      <td>0.0</td>\n",
              "      <td>0.0</td>\n",
              "      <td>0</td>\n",
              "      <td>0</td>\n",
              "      <td>0</td>\n",
              "      <td>1</td>\n",
              "    </tr>\n",
              "    <tr>\n",
              "      <th>1</th>\n",
              "      <td>0.277817</td>\n",
              "      <td>0.205872</td>\n",
              "      <td>1783.0</td>\n",
              "      <td>0.0</td>\n",
              "      <td>0.0</td>\n",
              "      <td>0</td>\n",
              "      <td>0</td>\n",
              "      <td>0</td>\n",
              "      <td>1</td>\n",
              "    </tr>\n",
              "    <tr>\n",
              "      <th>2</th>\n",
              "      <td>0.372127</td>\n",
              "      <td>0.272040</td>\n",
              "      <td>35.0</td>\n",
              "      <td>0.0</td>\n",
              "      <td>0.0</td>\n",
              "      <td>0</td>\n",
              "      <td>0</td>\n",
              "      <td>0</td>\n",
              "      <td>1</td>\n",
              "    </tr>\n",
              "    <tr>\n",
              "      <th>3</th>\n",
              "      <td>0.415194</td>\n",
              "      <td>0.325032</td>\n",
              "      <td>436.0</td>\n",
              "      <td>0.0</td>\n",
              "      <td>0.0</td>\n",
              "      <td>0</td>\n",
              "      <td>0</td>\n",
              "      <td>0</td>\n",
              "      <td>1</td>\n",
              "    </tr>\n",
              "    <tr>\n",
              "      <th>4</th>\n",
              "      <td>0.241500</td>\n",
              "      <td>0.182390</td>\n",
              "      <td>66.0</td>\n",
              "      <td>0.0</td>\n",
              "      <td>0.0</td>\n",
              "      <td>0</td>\n",
              "      <td>0</td>\n",
              "      <td>0</td>\n",
              "      <td>1</td>\n",
              "    </tr>\n",
              "    <tr>\n",
              "      <th>...</th>\n",
              "      <td>...</td>\n",
              "      <td>...</td>\n",
              "      <td>...</td>\n",
              "      <td>...</td>\n",
              "      <td>...</td>\n",
              "      <td>...</td>\n",
              "      <td>...</td>\n",
              "      <td>...</td>\n",
              "      <td>...</td>\n",
              "    </tr>\n",
              "    <tr>\n",
              "      <th>495</th>\n",
              "      <td>0.091672</td>\n",
              "      <td>0.041861</td>\n",
              "      <td>3809.0</td>\n",
              "      <td>2.0</td>\n",
              "      <td>1.0</td>\n",
              "      <td>4</td>\n",
              "      <td>1</td>\n",
              "      <td>0</td>\n",
              "      <td>0</td>\n",
              "    </tr>\n",
              "    <tr>\n",
              "      <th>496</th>\n",
              "      <td>0.459318</td>\n",
              "      <td>0.166887</td>\n",
              "      <td>1990.0</td>\n",
              "      <td>2.0</td>\n",
              "      <td>1.0</td>\n",
              "      <td>4</td>\n",
              "      <td>1</td>\n",
              "      <td>0</td>\n",
              "      <td>0</td>\n",
              "    </tr>\n",
              "    <tr>\n",
              "      <th>497</th>\n",
              "      <td>0.195508</td>\n",
              "      <td>0.073991</td>\n",
              "      <td>3066.0</td>\n",
              "      <td>2.0</td>\n",
              "      <td>1.0</td>\n",
              "      <td>4</td>\n",
              "      <td>1</td>\n",
              "      <td>0</td>\n",
              "      <td>0</td>\n",
              "    </tr>\n",
              "    <tr>\n",
              "      <th>498</th>\n",
              "      <td>0.429237</td>\n",
              "      <td>0.184882</td>\n",
              "      <td>604.0</td>\n",
              "      <td>2.0</td>\n",
              "      <td>1.0</td>\n",
              "      <td>4</td>\n",
              "      <td>1</td>\n",
              "      <td>0</td>\n",
              "      <td>0</td>\n",
              "    </tr>\n",
              "    <tr>\n",
              "      <th>499</th>\n",
              "      <td>0.246129</td>\n",
              "      <td>0.112251</td>\n",
              "      <td>1981.0</td>\n",
              "      <td>2.0</td>\n",
              "      <td>1.0</td>\n",
              "      <td>4</td>\n",
              "      <td>1</td>\n",
              "      <td>0</td>\n",
              "      <td>0</td>\n",
              "    </tr>\n",
              "  </tbody>\n",
              "</table>\n",
              "<p>500 rows × 9 columns</p>\n",
              "</div>"
            ],
            "text/plain": [
              "          AMP       RMS  ...  SOURCE_Natural  SOURCE_Synthesized\n",
              "0    0.504545  0.367265  ...               0                   1\n",
              "1    0.277817  0.205872  ...               0                   1\n",
              "2    0.372127  0.272040  ...               0                   1\n",
              "3    0.415194  0.325032  ...               0                   1\n",
              "4    0.241500  0.182390  ...               0                   1\n",
              "..        ...       ...  ...             ...                 ...\n",
              "495  0.091672  0.041861  ...               0                   0\n",
              "496  0.459318  0.166887  ...               0                   0\n",
              "497  0.195508  0.073991  ...               0                   0\n",
              "498  0.429237  0.184882  ...               0                   0\n",
              "499  0.246129  0.112251  ...               0                   0\n",
              "\n",
              "[500 rows x 9 columns]"
            ]
          },
          "metadata": {
            "tags": []
          },
          "execution_count": 10
        }
      ]
    },
    {
      "cell_type": "markdown",
      "metadata": {
        "id": "PZww7RDywznw"
      },
      "source": [
        "Eliminando uma das colunas para evitar redundância"
      ]
    },
    {
      "cell_type": "code",
      "metadata": {
        "id": "30BEb6-foHzR"
      },
      "source": [
        "df_mod2 = pd.get_dummies(df_mod, drop_first=True)"
      ],
      "execution_count": null,
      "outputs": []
    },
    {
      "cell_type": "code",
      "metadata": {
        "id": "Axz_SkiKpLql",
        "colab": {
          "base_uri": "https://localhost:8080/"
        },
        "outputId": "7c9b23ca-a0a9-4313-ec15-d16d99bad62e"
      },
      "source": [
        "df_mod2"
      ],
      "execution_count": null,
      "outputs": [
        {
          "output_type": "execute_result",
          "data": {
            "text/html": [
              "<div>\n",
              "<style scoped>\n",
              "    .dataframe tbody tr th:only-of-type {\n",
              "        vertical-align: middle;\n",
              "    }\n",
              "\n",
              "    .dataframe tbody tr th {\n",
              "        vertical-align: top;\n",
              "    }\n",
              "\n",
              "    .dataframe thead th {\n",
              "        text-align: right;\n",
              "    }\n",
              "</style>\n",
              "<table border=\"1\" class=\"dataframe\">\n",
              "  <thead>\n",
              "    <tr style=\"text-align: right;\">\n",
              "      <th></th>\n",
              "      <th>AMP</th>\n",
              "      <th>RMS</th>\n",
              "      <th>ZCR</th>\n",
              "      <th>FREQ. RANGE</th>\n",
              "      <th>TIME DECAY</th>\n",
              "      <th>CLASS</th>\n",
              "      <th>SOURCE_Natural</th>\n",
              "      <th>SOURCE_Synthesized</th>\n",
              "    </tr>\n",
              "  </thead>\n",
              "  <tbody>\n",
              "    <tr>\n",
              "      <th>0</th>\n",
              "      <td>0.504545</td>\n",
              "      <td>0.367265</td>\n",
              "      <td>154.0</td>\n",
              "      <td>0.0</td>\n",
              "      <td>0.0</td>\n",
              "      <td>0</td>\n",
              "      <td>0</td>\n",
              "      <td>1</td>\n",
              "    </tr>\n",
              "    <tr>\n",
              "      <th>1</th>\n",
              "      <td>0.277817</td>\n",
              "      <td>0.205872</td>\n",
              "      <td>1783.0</td>\n",
              "      <td>0.0</td>\n",
              "      <td>0.0</td>\n",
              "      <td>0</td>\n",
              "      <td>0</td>\n",
              "      <td>1</td>\n",
              "    </tr>\n",
              "    <tr>\n",
              "      <th>2</th>\n",
              "      <td>0.372127</td>\n",
              "      <td>0.272040</td>\n",
              "      <td>35.0</td>\n",
              "      <td>0.0</td>\n",
              "      <td>0.0</td>\n",
              "      <td>0</td>\n",
              "      <td>0</td>\n",
              "      <td>1</td>\n",
              "    </tr>\n",
              "    <tr>\n",
              "      <th>3</th>\n",
              "      <td>0.415194</td>\n",
              "      <td>0.325032</td>\n",
              "      <td>436.0</td>\n",
              "      <td>0.0</td>\n",
              "      <td>0.0</td>\n",
              "      <td>0</td>\n",
              "      <td>0</td>\n",
              "      <td>1</td>\n",
              "    </tr>\n",
              "    <tr>\n",
              "      <th>4</th>\n",
              "      <td>0.241500</td>\n",
              "      <td>0.182390</td>\n",
              "      <td>66.0</td>\n",
              "      <td>0.0</td>\n",
              "      <td>0.0</td>\n",
              "      <td>0</td>\n",
              "      <td>0</td>\n",
              "      <td>1</td>\n",
              "    </tr>\n",
              "    <tr>\n",
              "      <th>...</th>\n",
              "      <td>...</td>\n",
              "      <td>...</td>\n",
              "      <td>...</td>\n",
              "      <td>...</td>\n",
              "      <td>...</td>\n",
              "      <td>...</td>\n",
              "      <td>...</td>\n",
              "      <td>...</td>\n",
              "    </tr>\n",
              "    <tr>\n",
              "      <th>495</th>\n",
              "      <td>0.091672</td>\n",
              "      <td>0.041861</td>\n",
              "      <td>3809.0</td>\n",
              "      <td>2.0</td>\n",
              "      <td>1.0</td>\n",
              "      <td>4</td>\n",
              "      <td>0</td>\n",
              "      <td>0</td>\n",
              "    </tr>\n",
              "    <tr>\n",
              "      <th>496</th>\n",
              "      <td>0.459318</td>\n",
              "      <td>0.166887</td>\n",
              "      <td>1990.0</td>\n",
              "      <td>2.0</td>\n",
              "      <td>1.0</td>\n",
              "      <td>4</td>\n",
              "      <td>0</td>\n",
              "      <td>0</td>\n",
              "    </tr>\n",
              "    <tr>\n",
              "      <th>497</th>\n",
              "      <td>0.195508</td>\n",
              "      <td>0.073991</td>\n",
              "      <td>3066.0</td>\n",
              "      <td>2.0</td>\n",
              "      <td>1.0</td>\n",
              "      <td>4</td>\n",
              "      <td>0</td>\n",
              "      <td>0</td>\n",
              "    </tr>\n",
              "    <tr>\n",
              "      <th>498</th>\n",
              "      <td>0.429237</td>\n",
              "      <td>0.184882</td>\n",
              "      <td>604.0</td>\n",
              "      <td>2.0</td>\n",
              "      <td>1.0</td>\n",
              "      <td>4</td>\n",
              "      <td>0</td>\n",
              "      <td>0</td>\n",
              "    </tr>\n",
              "    <tr>\n",
              "      <th>499</th>\n",
              "      <td>0.246129</td>\n",
              "      <td>0.112251</td>\n",
              "      <td>1981.0</td>\n",
              "      <td>2.0</td>\n",
              "      <td>1.0</td>\n",
              "      <td>4</td>\n",
              "      <td>0</td>\n",
              "      <td>0</td>\n",
              "    </tr>\n",
              "  </tbody>\n",
              "</table>\n",
              "<p>500 rows × 8 columns</p>\n",
              "</div>"
            ],
            "text/plain": [
              "          AMP       RMS     ZCR  ...  CLASS  SOURCE_Natural  SOURCE_Synthesized\n",
              "0    0.504545  0.367265   154.0  ...      0               0                   1\n",
              "1    0.277817  0.205872  1783.0  ...      0               0                   1\n",
              "2    0.372127  0.272040    35.0  ...      0               0                   1\n",
              "3    0.415194  0.325032   436.0  ...      0               0                   1\n",
              "4    0.241500  0.182390    66.0  ...      0               0                   1\n",
              "..        ...       ...     ...  ...    ...             ...                 ...\n",
              "495  0.091672  0.041861  3809.0  ...      4               0                   0\n",
              "496  0.459318  0.166887  1990.0  ...      4               0                   0\n",
              "497  0.195508  0.073991  3066.0  ...      4               0                   0\n",
              "498  0.429237  0.184882   604.0  ...      4               0                   0\n",
              "499  0.246129  0.112251  1981.0  ...      4               0                   0\n",
              "\n",
              "[500 rows x 8 columns]"
            ]
          },
          "metadata": {
            "tags": []
          },
          "execution_count": 12
        }
      ]
    },
    {
      "cell_type": "markdown",
      "metadata": {
        "id": "JzzgYKOfr3GY"
      },
      "source": [
        "Colocando a coluna das labels por último "
      ]
    },
    {
      "cell_type": "code",
      "metadata": {
        "id": "4liQ4xBhrs3K",
        "colab": {
          "base_uri": "https://localhost:8080/"
        },
        "outputId": "f948060b-7a67-45d1-ff1f-9d6172bf9e0d"
      },
      "source": [
        "df_mod2.columns\n"
      ],
      "execution_count": null,
      "outputs": [
        {
          "output_type": "execute_result",
          "data": {
            "text/plain": [
              "Index(['AMP', 'RMS', 'ZCR', 'FREQ. RANGE', 'TIME DECAY', 'CLASS',\n",
              "       'SOURCE_Natural', 'SOURCE_Synthesized'],\n",
              "      dtype='object')"
            ]
          },
          "metadata": {
            "tags": []
          },
          "execution_count": 13
        }
      ]
    },
    {
      "cell_type": "code",
      "metadata": {
        "id": "-40yBBL6r2pV"
      },
      "source": [
        "new_colums = ['AMP', 'RMS', 'ZCR', 'FREQ. RANGE', 'TIME DECAY','SOURCE_Natural', 'SOURCE_Synthesized', 'CLASS']"
      ],
      "execution_count": null,
      "outputs": []
    },
    {
      "cell_type": "code",
      "metadata": {
        "id": "wuGtTg4Ku0Fm"
      },
      "source": [
        "df_mod2 = df_mod2[new_colums]"
      ],
      "execution_count": null,
      "outputs": []
    },
    {
      "cell_type": "code",
      "metadata": {
        "id": "YLvYjku3u5qM",
        "colab": {
          "base_uri": "https://localhost:8080/"
        },
        "outputId": "658dbee2-b3d3-4fe7-da8d-bed9704cac90"
      },
      "source": [
        "df_mod2"
      ],
      "execution_count": null,
      "outputs": [
        {
          "output_type": "execute_result",
          "data": {
            "text/html": [
              "<div>\n",
              "<style scoped>\n",
              "    .dataframe tbody tr th:only-of-type {\n",
              "        vertical-align: middle;\n",
              "    }\n",
              "\n",
              "    .dataframe tbody tr th {\n",
              "        vertical-align: top;\n",
              "    }\n",
              "\n",
              "    .dataframe thead th {\n",
              "        text-align: right;\n",
              "    }\n",
              "</style>\n",
              "<table border=\"1\" class=\"dataframe\">\n",
              "  <thead>\n",
              "    <tr style=\"text-align: right;\">\n",
              "      <th></th>\n",
              "      <th>AMP</th>\n",
              "      <th>RMS</th>\n",
              "      <th>ZCR</th>\n",
              "      <th>FREQ. RANGE</th>\n",
              "      <th>TIME DECAY</th>\n",
              "      <th>SOURCE_Natural</th>\n",
              "      <th>SOURCE_Synthesized</th>\n",
              "      <th>CLASS</th>\n",
              "    </tr>\n",
              "  </thead>\n",
              "  <tbody>\n",
              "    <tr>\n",
              "      <th>0</th>\n",
              "      <td>0.504545</td>\n",
              "      <td>0.367265</td>\n",
              "      <td>154.0</td>\n",
              "      <td>0.0</td>\n",
              "      <td>0.0</td>\n",
              "      <td>0</td>\n",
              "      <td>1</td>\n",
              "      <td>0</td>\n",
              "    </tr>\n",
              "    <tr>\n",
              "      <th>1</th>\n",
              "      <td>0.277817</td>\n",
              "      <td>0.205872</td>\n",
              "      <td>1783.0</td>\n",
              "      <td>0.0</td>\n",
              "      <td>0.0</td>\n",
              "      <td>0</td>\n",
              "      <td>1</td>\n",
              "      <td>0</td>\n",
              "    </tr>\n",
              "    <tr>\n",
              "      <th>2</th>\n",
              "      <td>0.372127</td>\n",
              "      <td>0.272040</td>\n",
              "      <td>35.0</td>\n",
              "      <td>0.0</td>\n",
              "      <td>0.0</td>\n",
              "      <td>0</td>\n",
              "      <td>1</td>\n",
              "      <td>0</td>\n",
              "    </tr>\n",
              "    <tr>\n",
              "      <th>3</th>\n",
              "      <td>0.415194</td>\n",
              "      <td>0.325032</td>\n",
              "      <td>436.0</td>\n",
              "      <td>0.0</td>\n",
              "      <td>0.0</td>\n",
              "      <td>0</td>\n",
              "      <td>1</td>\n",
              "      <td>0</td>\n",
              "    </tr>\n",
              "    <tr>\n",
              "      <th>4</th>\n",
              "      <td>0.241500</td>\n",
              "      <td>0.182390</td>\n",
              "      <td>66.0</td>\n",
              "      <td>0.0</td>\n",
              "      <td>0.0</td>\n",
              "      <td>0</td>\n",
              "      <td>1</td>\n",
              "      <td>0</td>\n",
              "    </tr>\n",
              "    <tr>\n",
              "      <th>...</th>\n",
              "      <td>...</td>\n",
              "      <td>...</td>\n",
              "      <td>...</td>\n",
              "      <td>...</td>\n",
              "      <td>...</td>\n",
              "      <td>...</td>\n",
              "      <td>...</td>\n",
              "      <td>...</td>\n",
              "    </tr>\n",
              "    <tr>\n",
              "      <th>495</th>\n",
              "      <td>0.091672</td>\n",
              "      <td>0.041861</td>\n",
              "      <td>3809.0</td>\n",
              "      <td>2.0</td>\n",
              "      <td>1.0</td>\n",
              "      <td>0</td>\n",
              "      <td>0</td>\n",
              "      <td>4</td>\n",
              "    </tr>\n",
              "    <tr>\n",
              "      <th>496</th>\n",
              "      <td>0.459318</td>\n",
              "      <td>0.166887</td>\n",
              "      <td>1990.0</td>\n",
              "      <td>2.0</td>\n",
              "      <td>1.0</td>\n",
              "      <td>0</td>\n",
              "      <td>0</td>\n",
              "      <td>4</td>\n",
              "    </tr>\n",
              "    <tr>\n",
              "      <th>497</th>\n",
              "      <td>0.195508</td>\n",
              "      <td>0.073991</td>\n",
              "      <td>3066.0</td>\n",
              "      <td>2.0</td>\n",
              "      <td>1.0</td>\n",
              "      <td>0</td>\n",
              "      <td>0</td>\n",
              "      <td>4</td>\n",
              "    </tr>\n",
              "    <tr>\n",
              "      <th>498</th>\n",
              "      <td>0.429237</td>\n",
              "      <td>0.184882</td>\n",
              "      <td>604.0</td>\n",
              "      <td>2.0</td>\n",
              "      <td>1.0</td>\n",
              "      <td>0</td>\n",
              "      <td>0</td>\n",
              "      <td>4</td>\n",
              "    </tr>\n",
              "    <tr>\n",
              "      <th>499</th>\n",
              "      <td>0.246129</td>\n",
              "      <td>0.112251</td>\n",
              "      <td>1981.0</td>\n",
              "      <td>2.0</td>\n",
              "      <td>1.0</td>\n",
              "      <td>0</td>\n",
              "      <td>0</td>\n",
              "      <td>4</td>\n",
              "    </tr>\n",
              "  </tbody>\n",
              "</table>\n",
              "<p>500 rows × 8 columns</p>\n",
              "</div>"
            ],
            "text/plain": [
              "          AMP       RMS     ZCR  ...  SOURCE_Natural  SOURCE_Synthesized  CLASS\n",
              "0    0.504545  0.367265   154.0  ...               0                   1      0\n",
              "1    0.277817  0.205872  1783.0  ...               0                   1      0\n",
              "2    0.372127  0.272040    35.0  ...               0                   1      0\n",
              "3    0.415194  0.325032   436.0  ...               0                   1      0\n",
              "4    0.241500  0.182390    66.0  ...               0                   1      0\n",
              "..        ...       ...     ...  ...             ...                 ...    ...\n",
              "495  0.091672  0.041861  3809.0  ...               0                   0      4\n",
              "496  0.459318  0.166887  1990.0  ...               0                   0      4\n",
              "497  0.195508  0.073991  3066.0  ...               0                   0      4\n",
              "498  0.429237  0.184882   604.0  ...               0                   0      4\n",
              "499  0.246129  0.112251  1981.0  ...               0                   0      4\n",
              "\n",
              "[500 rows x 8 columns]"
            ]
          },
          "metadata": {
            "tags": []
          },
          "execution_count": 16
        }
      ]
    },
    {
      "cell_type": "markdown",
      "metadata": {
        "id": "grsVuRo90zA4"
      },
      "source": [
        "**- LIDANDO COM DADOS FALTANTES**"
      ]
    },
    {
      "cell_type": "code",
      "metadata": {
        "id": "bZj8rsfH8YW7",
        "colab": {
          "base_uri": "https://localhost:8080/"
        },
        "outputId": "b8e18892-733e-47a3-a9ab-15b5a1cd35bf"
      },
      "source": [
        "df_mod2[346:347]"
      ],
      "execution_count": null,
      "outputs": [
        {
          "output_type": "execute_result",
          "data": {
            "text/html": [
              "<div>\n",
              "<style scoped>\n",
              "    .dataframe tbody tr th:only-of-type {\n",
              "        vertical-align: middle;\n",
              "    }\n",
              "\n",
              "    .dataframe tbody tr th {\n",
              "        vertical-align: top;\n",
              "    }\n",
              "\n",
              "    .dataframe thead th {\n",
              "        text-align: right;\n",
              "    }\n",
              "</style>\n",
              "<table border=\"1\" class=\"dataframe\">\n",
              "  <thead>\n",
              "    <tr style=\"text-align: right;\">\n",
              "      <th></th>\n",
              "      <th>AMP</th>\n",
              "      <th>RMS</th>\n",
              "      <th>ZCR</th>\n",
              "      <th>FREQ. RANGE</th>\n",
              "      <th>TIME DECAY</th>\n",
              "      <th>SOURCE_Natural</th>\n",
              "      <th>SOURCE_Synthesized</th>\n",
              "      <th>CLASS</th>\n",
              "    </tr>\n",
              "  </thead>\n",
              "  <tbody>\n",
              "    <tr>\n",
              "      <th>346</th>\n",
              "      <td>0.069103</td>\n",
              "      <td>0.040844</td>\n",
              "      <td>281.0</td>\n",
              "      <td>NaN</td>\n",
              "      <td>0.0</td>\n",
              "      <td>0</td>\n",
              "      <td>0</td>\n",
              "      <td>3</td>\n",
              "    </tr>\n",
              "  </tbody>\n",
              "</table>\n",
              "</div>"
            ],
            "text/plain": [
              "          AMP       RMS    ZCR  ...  SOURCE_Natural  SOURCE_Synthesized  CLASS\n",
              "346  0.069103  0.040844  281.0  ...               0                   0      3\n",
              "\n",
              "[1 rows x 8 columns]"
            ]
          },
          "metadata": {
            "tags": []
          },
          "execution_count": 17
        }
      ]
    },
    {
      "cell_type": "code",
      "metadata": {
        "id": "FJDhoBNN0ykK"
      },
      "source": [
        "#Eliminando linhas com valores faltantes\n",
        "df_mod2 = df_mod2.dropna(axis=0)"
      ],
      "execution_count": null,
      "outputs": []
    },
    {
      "cell_type": "code",
      "metadata": {
        "id": "xg8FziYv7lHH"
      },
      "source": [
        "#imputer = SimpleImputer(missing_values=np.nan, strategy='mean')\n",
        "#df_mod3 = df_mod2.values\n",
        "#df_mod3 = imputer.fit_transform(df_mod2.values)\n",
        "#df_mod3"
      ],
      "execution_count": null,
      "outputs": []
    },
    {
      "cell_type": "markdown",
      "metadata": {
        "id": "6bOHK4Mcvvi_"
      },
      "source": [
        "# **KNN (k-Nearest Neighbor Model)**"
      ]
    },
    {
      "cell_type": "markdown",
      "metadata": {
        "id": "kMFkaUe6wqc6"
      },
      "source": [
        "Separando em array de Features (X) e array Classes (y), transformando de tabela para matriz"
      ]
    },
    {
      "cell_type": "code",
      "metadata": {
        "id": "kVyLlXGvpad6",
        "colab": {
          "base_uri": "https://localhost:8080/",
          "height": 199
        },
        "outputId": "4af18b24-44a1-4c66-93b2-f3ab00157e73"
      },
      "source": [
        "X = df_mod2.iloc[:, 0:7].values\n",
        "X[0:5]"
      ],
      "execution_count": null,
      "outputs": [
        {
          "output_type": "execute_result",
          "data": {
            "text/plain": [
              "array([[5.0454540e-01, 3.6726484e-01, 1.5400000e+02, 0.0000000e+00,\n",
              "        0.0000000e+00, 0.0000000e+00, 1.0000000e+00],\n",
              "       [2.7781650e-01, 2.0587227e-01, 1.7830000e+03, 0.0000000e+00,\n",
              "        0.0000000e+00, 0.0000000e+00, 1.0000000e+00],\n",
              "       [3.7212700e-01, 2.7204010e-01, 3.5000000e+01, 0.0000000e+00,\n",
              "        0.0000000e+00, 0.0000000e+00, 1.0000000e+00],\n",
              "       [4.1519433e-01, 3.2503214e-01, 4.3600000e+02, 0.0000000e+00,\n",
              "        0.0000000e+00, 0.0000000e+00, 1.0000000e+00],\n",
              "       [2.4149981e-01, 1.8238968e-01, 6.6000000e+01, 0.0000000e+00,\n",
              "        0.0000000e+00, 0.0000000e+00, 1.0000000e+00]])"
            ]
          },
          "metadata": {
            "tags": []
          },
          "execution_count": 20
        }
      ]
    },
    {
      "cell_type": "code",
      "metadata": {
        "id": "Ibab5MELw__t",
        "colab": {
          "base_uri": "https://localhost:8080/",
          "height": 435
        },
        "outputId": "a7b623ef-8f19-4f8c-a667-ef6f8874aff7"
      },
      "source": [
        "y = df_mod2['CLASS'].values\n",
        "y"
      ],
      "execution_count": null,
      "outputs": [
        {
          "output_type": "execute_result",
          "data": {
            "text/plain": [
              "array([0, 0, 0, 0, 0, 0, 0, 0, 0, 0, 0, 0, 0, 0, 0, 0, 0, 0, 0, 0, 0, 0,\n",
              "       0, 0, 0, 0, 0, 0, 0, 0, 0, 0, 0, 0, 0, 0, 0, 0, 0, 0, 0, 0, 0, 0,\n",
              "       0, 0, 0, 0, 0, 0, 0, 0, 0, 0, 0, 0, 0, 0, 0, 0, 0, 0, 0, 0, 0, 0,\n",
              "       0, 0, 0, 0, 0, 0, 0, 0, 0, 0, 0, 0, 0, 0, 0, 0, 0, 0, 0, 0, 0, 0,\n",
              "       0, 0, 0, 0, 0, 0, 0, 0, 0, 0, 0, 1, 1, 1, 1, 1, 1, 1, 1, 1, 1, 1,\n",
              "       1, 1, 1, 1, 1, 1, 1, 1, 1, 1, 1, 1, 1, 1, 1, 1, 1, 1, 1, 1, 1, 1,\n",
              "       1, 1, 1, 1, 1, 1, 1, 1, 1, 1, 1, 1, 1, 1, 1, 1, 1, 1, 1, 1, 1, 1,\n",
              "       1, 1, 1, 1, 1, 1, 1, 1, 1, 1, 1, 1, 1, 1, 1, 1, 1, 1, 1, 1, 1, 1,\n",
              "       1, 1, 1, 1, 1, 1, 1, 1, 1, 1, 1, 1, 1, 1, 1, 1, 1, 1, 1, 1, 1, 1,\n",
              "       2, 2, 2, 2, 2, 2, 2, 2, 2, 2, 2, 2, 2, 2, 2, 2, 2, 2, 2, 2, 2, 2,\n",
              "       2, 2, 2, 2, 2, 2, 2, 2, 2, 2, 2, 2, 2, 2, 2, 2, 2, 2, 2, 2, 2, 2,\n",
              "       2, 2, 2, 2, 2, 2, 2, 2, 2, 2, 2, 2, 2, 2, 2, 2, 2, 2, 2, 2, 2, 2,\n",
              "       2, 2, 2, 2, 2, 2, 2, 2, 2, 2, 2, 2, 2, 2, 2, 2, 2, 2, 2, 2, 2, 2,\n",
              "       2, 2, 2, 2, 2, 2, 2, 2, 2, 2, 2, 3, 3, 3, 3, 3, 3, 3, 3, 3, 3, 3,\n",
              "       3, 3, 3, 3, 3, 3, 3, 3, 3, 3, 3, 3, 3, 3, 3, 3, 3, 3, 3, 3, 3, 3,\n",
              "       3, 3, 3, 3, 3, 3, 3, 3, 3, 3, 3, 3, 3, 3, 3, 3, 3, 3, 3, 3, 3, 3,\n",
              "       3, 3, 3, 3, 3, 3, 3, 3, 3, 3, 3, 3, 3, 3, 3, 3, 3, 3, 3, 3, 3, 3,\n",
              "       3, 3, 3, 3, 3, 3, 3, 3, 3, 3, 3, 3, 3, 3, 3, 3, 3, 3, 3, 3, 3, 3,\n",
              "       4, 4, 4, 4, 4, 4, 4, 4, 4, 4, 4, 4, 4, 4, 4, 4, 4, 4, 4, 4, 4, 4,\n",
              "       4, 4, 4, 4, 4, 4, 4, 4, 4, 4, 4, 4, 4, 4, 4, 4, 4, 4, 4, 4, 4, 4,\n",
              "       4, 4, 4, 4, 4, 4, 4, 4, 4, 4, 4, 4, 4, 4, 4, 4, 4, 4, 4, 4, 4, 4,\n",
              "       4, 4, 4, 4, 4, 4, 4, 4, 4, 4, 4, 4, 4, 4, 4, 4, 4, 4, 4, 4, 4, 4,\n",
              "       4, 4, 4, 4, 4, 4, 4, 4, 4, 4, 4])"
            ]
          },
          "metadata": {
            "tags": []
          },
          "execution_count": 21
        }
      ]
    },
    {
      "cell_type": "code",
      "metadata": {
        "id": "wbn0PCZq1Q0W"
      },
      "source": [
        "audio_all =  pd.DataFrame(df_mod2)\n",
        "audio_data = pd.DataFrame(X)\n",
        "audio_labels = pd.DataFrame(y)\n",
        "audio_data.to_csv('/content/drive/My Drive/Audio Dataset/audio_data.csv', index = False,header=[\"AMP\", \"RMS\", \"ZCR\", \"FREQ. RANGE\", \"TIME DECAY\", \"SOURCE_Natural\",\"SOURCE_Synthesized\"])\n",
        "audio_labels.to_csv('/content/drive/My Drive/Audio Dataset/audio_labels.csv', index = False,header=[\"CLASS\"])\n",
        "audio_all.to_csv('/content/drive/My Drive/Audio Dataset/audio_all.csv', index = False)"
      ],
      "execution_count": null,
      "outputs": []
    },
    {
      "cell_type": "markdown",
      "metadata": {
        "id": "HrYx_xD5xSVv"
      },
      "source": [
        "Separando Base de Treino e Base de Teste"
      ]
    },
    {
      "cell_type": "code",
      "metadata": {
        "id": "WmRY9FeuxSqw",
        "colab": {
          "base_uri": "https://localhost:8080/",
          "height": 35
        },
        "outputId": "db825988-a606-4557-b3a9-dfb9cf7ba4f8"
      },
      "source": [
        "X_train, X_test, y_train, y_test = train_test_split(X, y, test_size=0.6, shuffle=True, random_state=123, stratify=y)\n",
        "np.bincount(y_train)"
      ],
      "execution_count": null,
      "outputs": [
        {
          "output_type": "execute_result",
          "data": {
            "text/plain": [
              "array([39, 40, 39, 40, 40])"
            ]
          },
          "metadata": {
            "tags": []
          },
          "execution_count": 23
        }
      ]
    },
    {
      "cell_type": "code",
      "metadata": {
        "id": "QRvSrBGRBgCP",
        "colab": {
          "base_uri": "https://localhost:8080/",
          "height": 35
        },
        "outputId": "a2279e26-5aed-4cd8-ab4a-0a9bcbcb15ed"
      },
      "source": [
        "print(X_train.size, X_test.size, y_train.size, y_test.size)"
      ],
      "execution_count": null,
      "outputs": [
        {
          "output_type": "stream",
          "text": [
            "1386 2079 198 297\n"
          ],
          "name": "stdout"
        }
      ]
    },
    {
      "cell_type": "markdown",
      "metadata": {
        "id": "1sx_lCWcyYsw"
      },
      "source": [
        " Normalização das Features de Treino"
      ]
    },
    {
      "cell_type": "code",
      "metadata": {
        "id": "QHu3VTuK6cvz",
        "colab": {
          "base_uri": "https://localhost:8080/",
          "height": 254
        },
        "outputId": "2030bd45-4adf-455b-b079-47b6c30a96ca"
      },
      "source": [
        "scaler = StandardScaler()\n",
        "scaler.fit(X_train)\n",
        "X_train_std = scaler.transform(X_train)\n",
        "scaler.fit(X_test)\n",
        "X_test_std = scaler.transform(X_test)\n",
        "X_train_std"
      ],
      "execution_count": null,
      "outputs": [
        {
          "output_type": "execute_result",
          "data": {
            "text/plain": [
              "array([[ 0.50728331,  0.04817471,  0.92063648, ...,  0.81477945,\n",
              "        -0.49526056, -0.49526056],\n",
              "       [ 0.24908597,  0.48103803, -0.88519862, ..., -1.227326  ,\n",
              "        -0.49526056,  2.01913919],\n",
              "       [-0.65865848, -0.28568081, -0.77326669, ..., -1.227326  ,\n",
              "        -0.49526056, -0.49526056],\n",
              "       ...,\n",
              "       [ 1.93750804,  1.9552365 , -0.91791718, ..., -1.227326  ,\n",
              "        -0.49526056,  2.01913919],\n",
              "       [-0.89364872, -0.63840813,  0.04584542, ...,  0.81477945,\n",
              "        -0.49526056, -0.49526056],\n",
              "       [-0.2807964 , -0.58649184,  0.92982064, ...,  0.81477945,\n",
              "         2.01913919, -0.49526056]])"
            ]
          },
          "metadata": {
            "tags": []
          },
          "execution_count": 25
        }
      ]
    },
    {
      "cell_type": "markdown",
      "metadata": {
        "id": "QzTsewvA-e3M"
      },
      "source": [
        "Visualizando os a Base de Treino Normalizada"
      ]
    },
    {
      "cell_type": "code",
      "metadata": {
        "id": "FSz_5d-z-dmJ",
        "colab": {
          "base_uri": "https://localhost:8080/",
          "height": 592
        },
        "outputId": "f0e9aad0-1350-4128-c8ee-11de666deef5"
      },
      "source": [
        "plt.figure(figsize=(15, 10))\n",
        "\n",
        "plt.scatter(X_train_std[y_train == 0, 0],\n",
        "            X_train_std[y_train == 0, 1],\n",
        "            marker='o',\n",
        "            label='class 1 (Kicks)')\n",
        "\n",
        "plt.scatter(X_train_std[y_train == 1, 0],\n",
        "            X_train_std[y_train == 1, 1],\n",
        "            marker='^',\n",
        "            label='class 2 (Snares)')\n",
        "\n",
        "plt.scatter(X_train_std[y_train == 2, 0],\n",
        "            X_train_std[y_train == 2, 1],\n",
        "            marker='s',\n",
        "            label='Class 3 (Claps)')\n",
        "plt.scatter(X_train_std[y_train == 3, 0],\n",
        "            X_train_std[y_train == 3, 1],\n",
        "            marker='X',\n",
        "            label='Class 4 (Toms)')\n",
        "plt.scatter(X_train_std[y_train == 4, 0],\n",
        "            X_train_std[y_train == 4, 1],\n",
        "            marker='p',\n",
        "            label='Class 5 (Closed Hihats)')\n",
        "\n",
        "plt.xlim((-1.5, 4.5))\n",
        "plt.ylim((-1.5, 4.5))\n",
        "plt.legend(loc='upper right')\n",
        "plt.show()"
      ],
      "execution_count": null,
      "outputs": [
        {
          "output_type": "display_data",
          "data": {
            "image/png": "[encoded data removed]",
            "text/plain": [
              "<Figure size 1080x720 with 1 Axes>"
            ]
          },
          "metadata": {
            "tags": [],
            "needs_background": "light"
          }
        }
      ]
    },
    {
      "cell_type": "markdown",
      "metadata": {
        "id": "TnraSVQBdQ9t"
      },
      "source": [
        "Treinando o modelo"
      ]
    },
    {
      "cell_type": "code",
      "metadata": {
        "id": "Rv_vzMbezGFj",
        "colab": {
          "base_uri": "https://localhost:8080/",
          "height": 72
        },
        "outputId": "6a9c7a82-4618-4112-bd78-f178e6fe0a6d"
      },
      "source": [
        "knn_model = KNeighborsClassifier(n_neighbors=3)\n",
        "knn_model.fit(X_train_std, y_train)"
      ],
      "execution_count": null,
      "outputs": [
        {
          "output_type": "execute_result",
          "data": {
            "text/plain": [
              "KNeighborsClassifier(algorithm='auto', leaf_size=30, metric='minkowski',\n",
              "                     metric_params=None, n_jobs=None, n_neighbors=3, p=2,\n",
              "                     weights='uniform')"
            ]
          },
          "metadata": {
            "tags": []
          },
          "execution_count": 27
        }
      ]
    },
    {
      "cell_type": "markdown",
      "metadata": {
        "id": "SmbzBKyJdSgK"
      },
      "source": [
        "Fazendo a avaliação"
      ]
    },
    {
      "cell_type": "code",
      "metadata": {
        "id": "aJ9u51q2zkY0",
        "colab": {
          "base_uri": "https://localhost:8080/",
          "height": 345
        },
        "outputId": "74f26734-289c-4504-8c85-51347e47dcda"
      },
      "source": [
        "y_pred = knn_model.predict(X_test_std)\n",
        "print(y_pred)\n",
        "print(y_test)"
      ],
      "execution_count": null,
      "outputs": [
        {
          "output_type": "stream",
          "text": [
            "[4 2 1 3 3 4 4 3 2 4 2 0 4 4 2 3 1 4 1 2 3 3 3 3 3 2 1 4 1 4 3 2 1 2 1 3 2\n",
            " 0 1 4 0 3 1 3 4 1 3 0 2 1 0 2 4 2 1 2 2 0 1 4 3 0 2 4 3 3 4 0 1 1 2 3 4 4\n",
            " 2 4 0 1 3 0 3 4 0 3 2 0 2 2 3 2 2 1 2 0 4 3 4 4 1 2 1 0 0 1 0 1 2 4 0 0 2\n",
            " 4 3 1 3 3 2 3 4 4 3 0 4 0 2 1 0 4 1 0 1 2 4 1 2 1 1 3 0 4 0 4 1 2 4 3 2 4\n",
            " 1 1 0 3 3 3 1 2 4 2 4 3 3 2 3 1 0 0 4 3 2 3 0 4 3 2 3 0 4 0 4 1 1 2 3 4 1\n",
            " 1 2 0 2 4 2 0 0 3 4 1 1 4 4 2 2 2 1 4 0 3 2 0 0 0 1 0 3 0 2 0 4 0 0 1 1 0\n",
            " 1 4 1 0 0 4 1 2 4 3 1 3 0 1 0 0 2 1 3 3 4 0 1 0 1 3 4 3 4 0 1 1 0 2 2 0 3\n",
            " 0 4 0 2 3 3 2 2 1 4 3 4 3 1 2 3 4 1 0 2 2 2 1 0 4 0 3 1 3 0 2 3 4 0 1 2 4\n",
            " 1]\n",
            "[4 2 1 3 3 4 4 3 2 4 2 0 4 4 2 3 1 4 1 2 3 3 3 3 3 2 1 4 1 4 3 2 1 2 1 3 2\n",
            " 0 1 4 0 3 1 3 4 1 3 0 2 1 0 2 4 2 1 2 2 0 1 4 3 0 2 4 3 3 4 0 1 1 2 3 4 4\n",
            " 2 4 0 1 3 0 3 4 0 3 2 0 2 2 3 2 2 1 2 0 4 3 4 4 1 2 1 0 0 1 0 1 2 4 0 0 2\n",
            " 4 3 1 3 3 2 3 4 4 3 0 4 0 2 1 0 4 1 0 1 2 4 1 2 1 1 3 0 4 0 4 1 2 4 3 2 4\n",
            " 1 1 0 3 3 3 1 2 4 2 4 3 3 2 3 1 0 0 4 3 2 3 0 4 3 2 3 0 4 0 4 1 1 2 3 4 1\n",
            " 1 2 0 2 4 2 0 0 3 4 1 1 4 4 2 2 2 1 4 0 3 2 0 0 0 1 0 3 0 2 0 4 0 0 1 1 0\n",
            " 1 4 1 0 0 4 1 2 4 3 1 3 0 1 0 0 2 1 3 3 4 0 1 0 1 3 4 3 4 0 1 1 0 2 2 0 3\n",
            " 0 4 0 2 3 3 2 2 1 4 3 4 3 2 2 3 4 1 0 2 2 2 1 0 4 0 3 1 3 0 2 3 4 0 1 2 4\n",
            " 1]\n"
          ],
          "name": "stdout"
        }
      ]
    },
    {
      "cell_type": "code",
      "metadata": {
        "id": "N1pAFMkdzpqx",
        "colab": {
          "base_uri": "https://localhost:8080/",
          "height": 35
        },
        "outputId": "9d9bc25e-7e38-4407-fbe4-1faed02d5fe6"
      },
      "source": [
        "accuracy_score(y_test, y_pred)"
      ],
      "execution_count": null,
      "outputs": [
        {
          "output_type": "execute_result",
          "data": {
            "text/plain": [
              "0.9966329966329966"
            ]
          },
          "metadata": {
            "tags": []
          },
          "execution_count": 29
        }
      ]
    }
  ]
}