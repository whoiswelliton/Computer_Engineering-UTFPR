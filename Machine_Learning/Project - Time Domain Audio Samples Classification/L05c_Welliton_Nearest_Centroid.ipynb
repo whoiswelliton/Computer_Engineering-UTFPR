{
  "nbformat": 4,
  "nbformat_minor": 0,
  "metadata": {
    "colab": {
      "name": "L05c Welliton - Nearest Centroid.ipynb",
      "provenance": [],
      "collapsed_sections": []
    },
    "kernelspec": {
      "name": "python3",
      "display_name": "Python 3"
    },
    "accelerator": "GPU"
  },
  "cells": [
    {
      "cell_type": "code",
      "metadata": {
        "id": "pdZu2V6PLUE0"
      },
      "source": [
        "import scipy\n",
        "import numpy as np\n",
        "import sklearn\n",
        "from sklearn.neighbors import NearestCentroid\n",
        "from sklearn.preprocessing import StandardScaler\n",
        "from sklearn.model_selection import train_test_split\n",
        "from sklearn.metrics import accuracy_score\n",
        "from scipy.spatial import distance\n",
        "import matplotlib.pyplot as plt"
      ],
      "execution_count": null,
      "outputs": []
    },
    {
      "cell_type": "code",
      "metadata": {
        "id": "gIQy1dnhXrnP"
      },
      "source": [
        "X_train = np.array([[-1, -1], [-2, -1], [-3, -2], [1, 1], [2, 1], [3, 2]])\n",
        "y_train = np.array([0, 0, 0, 1, 1, 1])\n",
        "X_test = np.array([[-1, -2], [0, -1], [-3, -3], [2, 2],  [1, 2]])\n",
        "y_test = np.array([0, 0, 0, 1, 1])"
      ],
      "execution_count": null,
      "outputs": []
    },
    {
      "cell_type": "code",
      "metadata": {
        "id": "fhumrdp8e_G5"
      },
      "source": [
        "class NearestCentroidScratch():\n",
        "  def __init__(self, metric='eucledian'):                     #Contrutor\n",
        "    self.metric = metric\n",
        "    self.centroids_ = np.array([])\n",
        "    self.target_ = np.array([])\n",
        "\n",
        "  def fit(self, X, y):\n",
        "    self.target_ = np.unique(y)                               #array com as labels\n",
        "    self.centroids_ = np.empty((0, X[1].size))                #array que receberá o centróide de cada label\n",
        "    self.centroids_ = np.vstack([np.mean(X[y == n], axis = 0) for n in self.target_]) \n",
        "    #calcula o centróide para cada label e empilha no array                              \n",
        "  \n",
        "  def predict(self, X): \n",
        "    self.predict_ = np.array([], dtype=int)   \n",
        "    for x in X:                                               #percorrendo tupla a tupla a matriz de samples\n",
        "      dist = []                                               #lista pra armazenar as distâncias euclideanas/hipotenusas\n",
        "      [dist.append(distance.euclidean(x, self.centroids_[j,:])) for j in range(len(self.target_))] \n",
        "      #print(dist) #calcula a distância euclidiana, entre os valores da tupla(p) com o centróide(q), que varia de acordo com a qtd de labels        \n",
        "      self.predict_ = np.hstack((self.predict_, self.target_[dist.index(np.min(dist))])) \n",
        "      #print(self.predict_) #empilha a label, do índice onde foi encontrada a distância mínima, da tupla atual da matriz \n",
        "    return self.predict_ "
      ],
      "execution_count": null,
      "outputs": []
    },
    {
      "cell_type": "code",
      "metadata": {
        "id": "LtNJtTv52Z7U",
        "colab": {
          "base_uri": "https://localhost:8080/",
          "height": 54
        },
        "outputId": "32385fa6-b95b-4314-b0e1-69e96d2b5971"
      },
      "source": [
        "clf = NearestCentroidScratch()\n",
        "clf.fit(X_train, y_train)\n",
        "clf.centroids_"
      ],
      "execution_count": null,
      "outputs": [
        {
          "output_type": "execute_result",
          "data": {
            "text/plain": [
              "array([[-2.        , -1.33333333],\n",
              "       [ 2.        ,  1.33333333]])"
            ]
          },
          "metadata": {
            "tags": []
          },
          "execution_count": 148
        }
      ]
    },
    {
      "cell_type": "code",
      "metadata": {
        "id": "a3FUtMSsjEyR",
        "colab": {
          "base_uri": "https://localhost:8080/",
          "height": 283
        },
        "outputId": "2726f661-dc89-4aae-ef9c-014b0d4ddae8"
      },
      "source": [
        "plt.scatter(X_train[y_train==0, 0], X_train[y_train==0, 1], c='r')\n",
        "plt.scatter(X_train[y_train==1, 0], X_train[y_train==1, 1], c='g')\n",
        "plt.scatter(clf.centroids_[:,0], clf.centroids_[:,1], s=200, marker='X', c='k')"
      ],
      "execution_count": null,
      "outputs": [
        {
          "output_type": "execute_result",
          "data": {
            "text/plain": [
              "<matplotlib.collections.PathCollection at 0x7f5cc7554358>"
            ]
          },
          "metadata": {
            "tags": []
          },
          "execution_count": 149
        },
        {
          "output_type": "display_data",
          "data": {
            "image/png": "[encoded data removed]",
            "text/plain": [
              "<Figure size 432x288 with 1 Axes>"
            ]
          },
          "metadata": {
            "tags": [],
            "needs_background": "light"
          }
        }
      ]
    },
    {
      "cell_type": "code",
      "metadata": {
        "id": "cuibt6VaN8Tm",
        "colab": {
          "base_uri": "https://localhost:8080/",
          "height": 54
        },
        "outputId": "3d7253e1-911c-45f2-a71e-a6caaf0fa93b"
      },
      "source": [
        "y_pred = clf.predict(X_test)\n",
        "print(y_pred)\n",
        "print(y_test)"
      ],
      "execution_count": null,
      "outputs": [
        {
          "output_type": "stream",
          "text": [
            "[0 0 0 1 1]\n",
            "[0 0 0 1 1]\n"
          ],
          "name": "stdout"
        }
      ]
    },
    {
      "cell_type": "code",
      "metadata": {
        "id": "HYsDe4PenSZa",
        "colab": {
          "base_uri": "https://localhost:8080/",
          "height": 35
        },
        "outputId": "ddddd618-0fbb-4193-f126-54ec9623a449"
      },
      "source": [
        "accuracy_score(y_test, y_pred) * 100"
      ],
      "execution_count": null,
      "outputs": [
        {
          "output_type": "execute_result",
          "data": {
            "text/plain": [
              "100.0"
            ]
          },
          "metadata": {
            "tags": []
          },
          "execution_count": 151
        }
      ]
    }
  ]
}