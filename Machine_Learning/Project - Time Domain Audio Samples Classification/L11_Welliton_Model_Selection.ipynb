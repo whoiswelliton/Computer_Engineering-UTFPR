{
  "nbformat": 4,
  "nbformat_minor": 0,
  "metadata": {
    "colab": {
      "name": " L11 Welliton - Model Selection.ipynb",
      "provenance": []
    },
    "kernelspec": {
      "name": "python3",
      "display_name": "Python 3"
    },
    "accelerator": "GPU"
  },
  "cells": [
    {
      "cell_type": "code",
      "metadata": {
        "id": "-mwPGrBpm3ig"
      },
      "source": [
        "import scipy as sp\n",
        "import numpy as np\n",
        "import pandas as pd\n",
        "import pylab as py \n",
        "import sklearn\n",
        "\n",
        "from sklearn.pipeline import Pipeline\n",
        "from sklearn.preprocessing import StandardScaler\n",
        "from sklearn.neighbors import KNeighborsClassifier\n",
        "from sklearn.model_selection import train_test_split\n",
        "from sklearn.model_selection import GridSearchCV\n",
        "from sklearn.metrics import accuracy_score\n",
        "from sklearn.impute import SimpleImputer\n",
        "from sklearn.decomposition import PCA\n",
        "\n",
        "#visualização\n",
        "import seaborn as sns\n",
        "import IPython.display as ipd\n",
        "import matplotlib.pyplot as plt\n",
        "from mlxtend.plotting import plot_decision_regions\n",
        "from mlxtend.plotting import scatterplotmatrix"
      ],
      "execution_count": null,
      "outputs": []
    },
    {
      "cell_type": "code",
      "metadata": {
        "id": "2jHXCDoKm92B",
        "colab": {
          "base_uri": "https://localhost:8080/",
          "height": 35
        },
        "outputId": "254063f7-0540-4d1a-e84c-984ada8fe239"
      },
      "source": [
        "from google.colab import drive\n",
        "drive.mount('/content/drive')"
      ],
      "execution_count": null,
      "outputs": [
        {
          "output_type": "stream",
          "text": [
            "Mounted at /content/drive\n"
          ],
          "name": "stdout"
        }
      ]
    },
    {
      "cell_type": "code",
      "metadata": {
        "id": "0EqGUrqpoAeY"
      },
      "source": [
        "audioft_str = pd.read_csv('/content/drive/My Drive/Audio Dataset/audioft_cleanStr.csv')\n",
        "audioft_nmb = pd.read_csv('/content/drive/My Drive/Audio Dataset/audioft_cleanNmb.csv')"
      ],
      "execution_count": null,
      "outputs": []
    },
    {
      "cell_type": "code",
      "metadata": {
        "id": "3_DO1R1dALZZ"
      },
      "source": [
        "X = audioft_nmb.iloc[:,0:7].values\n",
        "y = audioft_nmb['CLASS'].values"
      ],
      "execution_count": null,
      "outputs": []
    },
    {
      "cell_type": "markdown",
      "metadata": {
        "id": "sClgCtBR1PtA"
      },
      "source": [
        "# **PIPELINE**"
      ]
    },
    {
      "cell_type": "markdown",
      "metadata": {
        "id": "1gxX1kiL_rlV"
      },
      "source": [
        "1. Pre-processing\n",
        "\n",
        "Já feito nos trabalhos anteriores."
      ]
    },
    {
      "cell_type": "markdown",
      "metadata": {
        "id": "RuCNKLg6ANYA"
      },
      "source": [
        "2. Transformação/Conversão dos dados\n",
        "\n",
        "Já feito nos trabalhos anteriores."
      ]
    },
    {
      "cell_type": "code",
      "metadata": {
        "id": "ng_Ad10u1JEv"
      },
      "source": [
        "X_train, X_test, y_train, y_test = train_test_split(X, y, test_size=0.2, shuffle=True, random_state=1, stratify=y)"
      ],
      "execution_count": null,
      "outputs": []
    },
    {
      "cell_type": "code",
      "metadata": {
        "id": "CJPLcyrG5zTK",
        "colab": {
          "base_uri": "https://localhost:8080/",
          "height": 35
        },
        "outputId": "864445fe-cfa0-4d52-a574-382f47e4419e"
      },
      "source": [
        "print(X_train.size, X_test.size, y_train.size, y_test.size)"
      ],
      "execution_count": null,
      "outputs": [
        {
          "output_type": "stream",
          "text": [
            "2688 679 384 97\n"
          ],
          "name": "stdout"
        }
      ]
    },
    {
      "cell_type": "markdown",
      "metadata": {
        "id": "8-7bDueS_oJJ"
      },
      "source": [
        "3. Normalização"
      ]
    },
    {
      "cell_type": "code",
      "metadata": {
        "id": "zfQsG0oZ-C7B"
      },
      "source": [
        "scaler = StandardScaler()\n",
        "\n",
        "scaler.fit(X_train)\n",
        "X_train_std = scaler.transform(X_train)\n",
        "\n",
        "scaler.fit(X_test)\n",
        "X_test_std = scaler.transform(X_test)"
      ],
      "execution_count": null,
      "outputs": []
    },
    {
      "cell_type": "markdown",
      "metadata": {
        "id": "UGNctgDTAnpj"
      },
      "source": [
        "4. Redução de Dimensionalidade & Classificador"
      ]
    },
    {
      "cell_type": "code",
      "metadata": {
        "id": "95ZyvIdk5_lh"
      },
      "source": [
        "pipe = Pipeline([('z-score', StandardScaler()), ('reduce_dim', PCA(n_components=3)), ('classify', KNeighborsClassifier(n_neighbors=1))])"
      ],
      "execution_count": null,
      "outputs": []
    },
    {
      "cell_type": "code",
      "metadata": {
        "id": "fC-TAiXN6Gmo",
        "colab": {
          "base_uri": "https://localhost:8080/",
          "height": 254
        },
        "outputId": "5128ae32-a176-4079-8b05-19c2a7c93aa6"
      },
      "source": [
        "pipe.fit(X_train_std, y_train)"
      ],
      "execution_count": null,
      "outputs": [
        {
          "output_type": "execute_result",
          "data": {
            "text/plain": [
              "Pipeline(memory=None,\n",
              "         steps=[('z-score',\n",
              "                 StandardScaler(copy=True, with_mean=True, with_std=True)),\n",
              "                ('reduce_dim',\n",
              "                 PCA(copy=True, iterated_power='auto', n_components=3,\n",
              "                     random_state=None, svd_solver='auto', tol=0.0,\n",
              "                     whiten=False)),\n",
              "                ('classify',\n",
              "                 KNeighborsClassifier(algorithm='auto', leaf_size=30,\n",
              "                                      metric='minkowski', metric_params=None,\n",
              "                                      n_jobs=None, n_neighbors=1, p=2,\n",
              "                                      weights='uniform'))],\n",
              "         verbose=False)"
            ]
          },
          "metadata": {
            "tags": []
          },
          "execution_count": 9
        }
      ]
    },
    {
      "cell_type": "code",
      "metadata": {
        "id": "apDR0wzP6Mjc",
        "colab": {
          "base_uri": "https://localhost:8080/",
          "height": 35
        },
        "outputId": "3b8f0ee1-3f8b-484f-db0b-a367571b6fcd"
      },
      "source": [
        "y_train_pred = pipe.predict(X_train_std)\n",
        "accuracy_score(y_train, y_train_pred)"
      ],
      "execution_count": null,
      "outputs": [
        {
          "output_type": "execute_result",
          "data": {
            "text/plain": [
              "1.0"
            ]
          },
          "metadata": {
            "tags": []
          },
          "execution_count": 10
        }
      ]
    },
    {
      "cell_type": "code",
      "metadata": {
        "id": "Y_LcZ6qkEdyZ",
        "colab": {
          "base_uri": "https://localhost:8080/",
          "height": 35
        },
        "outputId": "7bbf7535-a1d5-4c9e-c801-c7bd5aa9e434"
      },
      "source": [
        "y_test_pred = pipe.predict(X_test_std)\n",
        "accuracy_score(y_test, y_test_pred)"
      ],
      "execution_count": null,
      "outputs": [
        {
          "output_type": "execute_result",
          "data": {
            "text/plain": [
              "1.0"
            ]
          },
          "metadata": {
            "tags": []
          },
          "execution_count": 11
        }
      ]
    },
    {
      "cell_type": "markdown",
      "metadata": {
        "id": "Im1_jDkHAvlB"
      },
      "source": [
        "# **GRID-SEARCH**"
      ]
    },
    {
      "cell_type": "code",
      "metadata": {
        "id": "RWqZvqEsAynS"
      },
      "source": [
        "param_grid = {'reduce_dim__n_components': [1, 2, 3, 4], 'classify__n_neighbors': [2, 3, 4, 5]}\n",
        "\n",
        "grid = GridSearchCV(pipe, cv=2, n_jobs=1, param_grid=param_grid, scoring='accuracy')"
      ],
      "execution_count": null,
      "outputs": []
    },
    {
      "cell_type": "code",
      "metadata": {
        "id": "wy-fAMeJBJqm",
        "colab": {
          "base_uri": "https://localhost:8080/",
          "height": 472
        },
        "outputId": "45b6df20-833d-4f7a-97f5-0acbcda342a8"
      },
      "source": [
        "grid.fit(X_train_std, y_train)"
      ],
      "execution_count": null,
      "outputs": [
        {
          "output_type": "execute_result",
          "data": {
            "text/plain": [
              "GridSearchCV(cv=2, error_score=nan,\n",
              "             estimator=Pipeline(memory=None,\n",
              "                                steps=[('z-score',\n",
              "                                        StandardScaler(copy=True,\n",
              "                                                       with_mean=True,\n",
              "                                                       with_std=True)),\n",
              "                                       ('reduce_dim',\n",
              "                                        PCA(copy=True, iterated_power='auto',\n",
              "                                            n_components=3, random_state=None,\n",
              "                                            svd_solver='auto', tol=0.0,\n",
              "                                            whiten=False)),\n",
              "                                       ('classify',\n",
              "                                        KNeighborsClassifier(algorithm='auto',\n",
              "                                                             leaf_size=30,\n",
              "                                                             metric='minkowski',\n",
              "                                                             metric_params=None,\n",
              "                                                             n_jobs=None,\n",
              "                                                             n_neighbors=1, p=2,\n",
              "                                                             weights='uniform'))],\n",
              "                                verbose=False),\n",
              "             iid='deprecated', n_jobs=1,\n",
              "             param_grid={'classify__n_neighbors': [2, 3, 4, 5],\n",
              "                         'reduce_dim__n_components': [1, 2, 3, 4]},\n",
              "             pre_dispatch='2*n_jobs', refit=True, return_train_score=False,\n",
              "             scoring='accuracy', verbose=0)"
            ]
          },
          "metadata": {
            "tags": []
          },
          "execution_count": 13
        }
      ]
    },
    {
      "cell_type": "code",
      "metadata": {
        "id": "rxMv7WBWBQ5u",
        "colab": {
          "base_uri": "https://localhost:8080/",
          "height": 655
        },
        "outputId": "8e1d4050-85b2-4c57-f02b-8c46ea576f8d"
      },
      "source": [
        "print(grid.cv_results_)"
      ],
      "execution_count": null,
      "outputs": [
        {
          "output_type": "stream",
          "text": [
            "{'mean_fit_time': array([0.00295448, 0.00131607, 0.0014652 , 0.00127411, 0.00137019,\n",
            "       0.0012058 , 0.00121284, 0.00146151, 0.00138593, 0.00126112,\n",
            "       0.00118697, 0.00125194, 0.00122273, 0.00125766, 0.00128841,\n",
            "       0.00123477]), 'std_fit_time': array([1.64103508e-03, 1.01327896e-04, 1.39474869e-05, 4.14848328e-05,\n",
            "       2.24113464e-05, 6.31809235e-06, 4.76837158e-06, 2.92062759e-04,\n",
            "       1.06573105e-04, 1.19209290e-07, 1.19209290e-07, 3.00407410e-05,\n",
            "       5.85317612e-05, 7.27176666e-05, 2.98023224e-05, 3.81469727e-06]), 'mean_score_time': array([0.00673187, 0.00556707, 0.00605655, 0.00589168, 0.00619113,\n",
            "       0.00552595, 0.00565922, 0.00548255, 0.00661147, 0.0055871 ,\n",
            "       0.00557649, 0.00543797, 0.00539422, 0.00550377, 0.00536156,\n",
            "       0.00579071]), 'std_score_time': array([1.14309788e-03, 4.91857529e-04, 5.79357147e-05, 8.42809677e-05,\n",
            "       4.49419022e-05, 1.10864639e-05, 2.42114067e-04, 1.73687935e-04,\n",
            "       8.37445259e-04, 1.21355057e-04, 2.80141830e-05, 4.11272049e-05,\n",
            "       1.34468079e-04, 1.04546547e-04, 5.88893890e-05, 1.40190125e-04]), 'param_classify__n_neighbors': masked_array(data=[2, 2, 2, 2, 3, 3, 3, 3, 4, 4, 4, 4, 5, 5, 5, 5],\n",
            "             mask=[False, False, False, False, False, False, False, False,\n",
            "                   False, False, False, False, False, False, False, False],\n",
            "       fill_value='?',\n",
            "            dtype=object), 'param_reduce_dim__n_components': masked_array(data=[1, 2, 3, 4, 1, 2, 3, 4, 1, 2, 3, 4, 1, 2, 3, 4],\n",
            "             mask=[False, False, False, False, False, False, False, False,\n",
            "                   False, False, False, False, False, False, False, False],\n",
            "       fill_value='?',\n",
            "            dtype=object), 'params': [{'classify__n_neighbors': 2, 'reduce_dim__n_components': 1}, {'classify__n_neighbors': 2, 'reduce_dim__n_components': 2}, {'classify__n_neighbors': 2, 'reduce_dim__n_components': 3}, {'classify__n_neighbors': 2, 'reduce_dim__n_components': 4}, {'classify__n_neighbors': 3, 'reduce_dim__n_components': 1}, {'classify__n_neighbors': 3, 'reduce_dim__n_components': 2}, {'classify__n_neighbors': 3, 'reduce_dim__n_components': 3}, {'classify__n_neighbors': 3, 'reduce_dim__n_components': 4}, {'classify__n_neighbors': 4, 'reduce_dim__n_components': 1}, {'classify__n_neighbors': 4, 'reduce_dim__n_components': 2}, {'classify__n_neighbors': 4, 'reduce_dim__n_components': 3}, {'classify__n_neighbors': 4, 'reduce_dim__n_components': 4}, {'classify__n_neighbors': 5, 'reduce_dim__n_components': 1}, {'classify__n_neighbors': 5, 'reduce_dim__n_components': 2}, {'classify__n_neighbors': 5, 'reduce_dim__n_components': 3}, {'classify__n_neighbors': 5, 'reduce_dim__n_components': 4}], 'split0_test_score': array([0.63020833, 0.80208333, 1.        , 1.        , 0.6875    ,\n",
            "       0.83854167, 1.        , 1.        , 0.69791667, 0.82291667,\n",
            "       1.        , 0.99479167, 0.69270833, 0.82291667, 1.        ,\n",
            "       1.        ]), 'split1_test_score': array([0.60416667, 0.77083333, 0.95833333, 0.984375  , 0.64583333,\n",
            "       0.78125   , 0.94270833, 0.95833333, 0.61979167, 0.76041667,\n",
            "       0.94270833, 0.953125  , 0.640625  , 0.765625  , 0.9375    ,\n",
            "       0.953125  ]), 'mean_test_score': array([0.6171875 , 0.78645833, 0.97916667, 0.9921875 , 0.66666667,\n",
            "       0.80989583, 0.97135417, 0.97916667, 0.65885417, 0.79166667,\n",
            "       0.97135417, 0.97395833, 0.66666667, 0.79427083, 0.96875   ,\n",
            "       0.9765625 ]), 'std_test_score': array([0.01302083, 0.015625  , 0.02083333, 0.0078125 , 0.02083333,\n",
            "       0.02864583, 0.02864583, 0.02083333, 0.0390625 , 0.03125   ,\n",
            "       0.02864583, 0.02083333, 0.02604167, 0.02864583, 0.03125   ,\n",
            "       0.0234375 ]), 'rank_test_score': array([16, 12,  2,  1, 13,  9,  6,  2, 15, 11,  6,  5, 13, 10,  8,  4],\n",
            "      dtype=int32)}\n"
          ],
          "name": "stdout"
        }
      ]
    },
    {
      "cell_type": "code",
      "metadata": {
        "id": "P9LQCp22BUmq",
        "colab": {
          "base_uri": "https://localhost:8080/",
          "height": 90
        },
        "outputId": "c097977d-fe72-47ef-c63a-6928eae1ef80"
      },
      "source": [
        "grid.cv_results_['mean_test_score']"
      ],
      "execution_count": null,
      "outputs": [
        {
          "output_type": "execute_result",
          "data": {
            "text/plain": [
              "array([0.6171875 , 0.78645833, 0.97916667, 0.9921875 , 0.66666667,\n",
              "       0.80989583, 0.97135417, 0.97916667, 0.65885417, 0.79166667,\n",
              "       0.97135417, 0.97395833, 0.66666667, 0.79427083, 0.96875   ,\n",
              "       0.9765625 ])"
            ]
          },
          "metadata": {
            "tags": []
          },
          "execution_count": 15
        }
      ]
    },
    {
      "cell_type": "markdown",
      "metadata": {
        "id": "lZvUssXUBdUr"
      },
      "source": [
        "Exibindo parâmetros ideias encontrados a partir do melhor Score obtido"
      ]
    },
    {
      "cell_type": "code",
      "metadata": {
        "id": "KrQNcQJmBXhf",
        "colab": {
          "base_uri": "https://localhost:8080/",
          "height": 54
        },
        "outputId": "9b289bff-b277-47ee-c690-5e9de8cc52d2"
      },
      "source": [
        "print(grid.best_score_)\n",
        "print(grid.best_params_)"
      ],
      "execution_count": null,
      "outputs": [
        {
          "output_type": "stream",
          "text": [
            "0.9921875\n",
            "{'classify__n_neighbors': 2, 'reduce_dim__n_components': 4}\n"
          ],
          "name": "stdout"
        }
      ]
    },
    {
      "cell_type": "code",
      "metadata": {
        "id": "5Hquu1H0Bbou"
      },
      "source": [
        "clf = grid.best_estimator_"
      ],
      "execution_count": null,
      "outputs": []
    },
    {
      "cell_type": "code",
      "metadata": {
        "id": "ClFoUu8QBmGS",
        "colab": {
          "base_uri": "https://localhost:8080/",
          "height": 35
        },
        "outputId": "0e129216-3f22-4da7-b8c5-3ace889fc909"
      },
      "source": [
        "y_test_pred = clf.predict(X_test_std)\n",
        "accuracy_score(y_test, y_test_pred)"
      ],
      "execution_count": null,
      "outputs": [
        {
          "output_type": "execute_result",
          "data": {
            "text/plain": [
              "1.0"
            ]
          },
          "metadata": {
            "tags": []
          },
          "execution_count": 18
        }
      ]
    }
  ]
}