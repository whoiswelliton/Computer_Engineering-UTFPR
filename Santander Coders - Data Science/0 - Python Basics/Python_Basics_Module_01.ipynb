{
  "nbformat": 4,
  "nbformat_minor": 0,
  "metadata": {
    "colab": {
      "name": "Python Basics - Module 01.ipynb",
      "provenance": [],
      "authorship_tag": "ABX9TyPL9TeBdwq6D+JBhpxBtPy3",
      "include_colab_link": true
    },
    "kernelspec": {
      "name": "python3",
      "display_name": "Python 3"
    },
    "language_info": {
      "name": "python"
    }
  },
  "cells": [
    {
      "cell_type": "markdown",
      "metadata": {
        "id": "view-in-github",
        "colab_type": "text"
      },
      "source": [
        "<a href=\"https://colab.research.google.com/github/whoiswelliton/Computer_Engineering_UTFPR-PB/blob/main/Santander%20Coders%20-%20Data%20Science/0%20-%20Python%20Basics/Python_Basics_Module_01.ipynb\" target=\"_parent\"><img src=\"https://colab.research.google.com/assets/colab-badge.svg\" alt=\"Open In Colab\"/></a>"
      ]
    },
    {
      "cell_type": "code",
      "metadata": {
        "colab": {
          "base_uri": "https://localhost:8080/"
        },
        "id": "Q04ghU4beo4d",
        "outputId": "4b26879d-a3a3-41cc-92a4-c1c455b9e141"
      },
      "source": [
        "print(\"Hello, World!\")"
      ],
      "execution_count": 1,
      "outputs": [
        {
          "output_type": "stream",
          "text": [
            "Hello, World!\n"
          ],
          "name": "stdout"
        }
      ]
    },
    {
      "cell_type": "markdown",
      "metadata": {
        "id": "JXu-6v9Ujsrn"
      },
      "source": [
        "#Operadores"
      ]
    },
    {
      "cell_type": "markdown",
      "metadata": {
        "id": "eKbw024QfKuP"
      },
      "source": [
        "Operadores aritméticos"
      ]
    },
    {
      "cell_type": "code",
      "metadata": {
        "colab": {
          "base_uri": "https://localhost:8080/"
        },
        "id": "1920YsKAeuFX",
        "outputId": "dd437760-a4a5-4d90-f74f-34e2a5f1439f"
      },
      "source": [
        "# Podemos fazer operações aritméticas simples\n",
        "a = 2 + 3  # Soma\n",
        "b = 2 - 3  # Subtração\n",
        "c = 2 * 3  # Multiplicação\n",
        "d = 2 / 3  # Divisão\n",
        "e = 2 // 3 # Divisão inteira\n",
        "f = 2 ** 3 # Potência\n",
        "g = 2 % 3  # Resto de divisão\n",
        "\n",
        "print (a, b, c, d, e, f, g)"
      ],
      "execution_count": 3,
      "outputs": [
        {
          "output_type": "stream",
          "text": [
            "5 -1 6 0.6666666666666666 0 8 2\n"
          ],
          "name": "stdout"
        }
      ]
    },
    {
      "cell_type": "code",
      "metadata": {
        "colab": {
          "base_uri": "https://localhost:8080/"
        },
        "id": "ZVhiOBr6ez8w",
        "outputId": "d2f4ff03-b409-4ee2-adcc-ac7896cf4cab"
      },
      "source": [
        "# Podemos fazer operações dentro do print\n",
        "\n",
        "print (a+1, b+1)\n",
        "\n",
        "#Podemos fazer operações com variáveis não inteiras\n",
        "nome = input('Digite seu primeiro nome:')\n",
        "nome = nome + ' Leal'\n",
        "print(nome)"
      ],
      "execution_count": 5,
      "outputs": [
        {
          "output_type": "stream",
          "text": [
            "6 0\n",
            "Digite seu primeiro nome:Welliton\n",
            "Welliton Leal\n"
          ],
          "name": "stdout"
        }
      ]
    },
    {
      "cell_type": "markdown",
      "metadata": {
        "id": "NMIsUNjcfIxc"
      },
      "source": [
        "Operadores relacionais"
      ]
    },
    {
      "cell_type": "code",
      "metadata": {
        "colab": {
          "base_uri": "https://localhost:8080/"
        },
        "id": "_M2-NAQNe1-a",
        "outputId": "875fd395-2363-42c9-84a7-78d42bdc476a"
      },
      "source": [
        "comparacao1 = 5 > 3\n",
        "print(comparacao1)\n",
        "comparacao2 = 5 < 3\n",
        "print(comparacao2)"
      ],
      "execution_count": 6,
      "outputs": [
        {
          "output_type": "stream",
          "text": [
            "True\n",
            "False\n"
          ],
          "name": "stdout"
        }
      ]
    },
    {
      "cell_type": "markdown",
      "metadata": {
        "id": "AaEsPJmWg0_E"
      },
      "source": [
        "#Estuturas Sequênciais"
      ]
    },
    {
      "cell_type": "markdown",
      "metadata": {
        "id": "CocxxX2cffH3"
      },
      "source": [
        "Outputs"
      ]
    },
    {
      "cell_type": "code",
      "metadata": {
        "colab": {
          "base_uri": "https://localhost:8080/"
        },
        "id": "GKeqxY9_fglw",
        "outputId": "edef8712-47c5-41f6-b667-22b7f05160bd"
      },
      "source": [
        "y = 3.14 # uma variável do tipo real (float)\n",
        "escola = \"Let's Code\" # uma variável literal (string)\n",
        "\n",
        "# Podemos exibir textos na tela e/ou valores de variáveis com a função print().\n",
        "print('eu estudo na ', escola)\n",
        "print('pi vale', y)\n",
        "\n",
        "# Podemos fazer operações dentro do print:\n",
        "print (y+1, y**2)"
      ],
      "execution_count": 8,
      "outputs": [
        {
          "output_type": "stream",
          "text": [
            "eu estudo na  Let's Code\n",
            "pi vale 3.14\n",
            "4.140000000000001 9.8596\n"
          ],
          "name": "stdout"
        }
      ]
    },
    {
      "cell_type": "markdown",
      "metadata": {
        "id": "UVUK_ptjfjoq"
      },
      "source": [
        "Inputs"
      ]
    },
    {
      "cell_type": "code",
      "metadata": {
        "colab": {
          "base_uri": "https://localhost:8080/"
        },
        "id": "udlUKixWflQW",
        "outputId": "3a6bdc6a-5c14-4dd1-859a-e74a65955563"
      },
      "source": [
        "# Podemos ler valores do teclado com a função input().\n",
        "# Ela permite que a gente passe uma mensagem para o usuário.\n",
        "nome = input('Digite o seu nome: ')\n",
        "\n",
        "# Tudo que é lido por input() é considerado uma string (str).\n",
        "# Para tratar como outros tipos de dados é necessário realizar a conversão:\n",
        "peso = float(input('Digite o seu peso: ')) # lê o peso como número real\n",
        "idade = int(input('Digite a sua idade: ')) # lê a idade como número inteiro\n",
        "\n",
        "print(nome, 'pesa', peso, 'kg e tem', idade, 'anos de idade.')"
      ],
      "execution_count": 9,
      "outputs": [
        {
          "output_type": "stream",
          "text": [
            "Digite o seu nome: Welliton\n",
            "Digite o seu peso: 70\n",
            "Digite a sua idade: 27\n",
            "Welliton pesa 70.0 kg e tem 27 anos de idade.\n"
          ],
          "name": "stdout"
        }
      ]
    },
    {
      "cell_type": "code",
      "metadata": {
        "colab": {
          "base_uri": "https://localhost:8080/"
        },
        "id": "nKAAz7gdf0fb",
        "outputId": "b7663bb7-690a-41fc-f040-e04140d71d66"
      },
      "source": [
        "salario_mensal = input('Digite o valor do seu salário mensal: ')\n",
        "salario_mensal = float(salario_mensal)\n",
        "\n",
        "gasto_mensal = input(\"Digite o seu gasto mensal: \")\n",
        "gasto_mensal = float(gasto_mensal)\n",
        "\n",
        "montante = salario_mensal - gasto_mensal\n",
        "print(montante)"
      ],
      "execution_count": 12,
      "outputs": [
        {
          "output_type": "stream",
          "text": [
            "Digite o valor do seu salário mensal: 1000\n",
            "Digite o seu gasto mensal: 500\n",
            "500.0\n"
          ],
          "name": "stdout"
        }
      ]
    },
    {
      "cell_type": "markdown",
      "metadata": {
        "id": "9PFDggHrg8sS"
      },
      "source": [
        "#Estruturas Condicionais"
      ]
    },
    {
      "cell_type": "markdown",
      "metadata": {
        "id": "L1SVf009hThc"
      },
      "source": [
        "if"
      ]
    },
    {
      "cell_type": "code",
      "metadata": {
        "colab": {
          "base_uri": "https://localhost:8080/"
        },
        "id": "u9FhIXlLg_iK",
        "outputId": "b125d609-a1d3-4cb8-e5c4-199b9c691fe6"
      },
      "source": [
        "idade = int(input('Digite sua idade:'))\n",
        "if idade >= 12:\n",
        "    print('Você pode entrar na montanha russa.')\n",
        "print('Obrigado por participar.')\n",
        "\n",
        "altura = float(input('Digite sua altura, em metros:'))\n",
        "if idade >= 12 and altura >= 1.60:\n",
        "    print('Você pode entrar na montanha russa.')\n",
        "print('Obrigado por participar.')"
      ],
      "execution_count": 15,
      "outputs": [
        {
          "output_type": "stream",
          "text": [
            "Digite sua idade:18\n",
            "Você pode entrar na montanha russa.\n",
            "Obrigado por participar.\n",
            "Digite sua altura, em metros:1.8\n",
            "Você pode entrar na montanha russa.\n",
            "Obrigado por participar.\n"
          ],
          "name": "stdout"
        }
      ]
    },
    {
      "cell_type": "code",
      "metadata": {
        "colab": {
          "base_uri": "https://localhost:8080/"
        },
        "id": "cSverHvMhnUV",
        "outputId": "c45bece4-3a9b-4462-a0d1-d32f2e5a3c05"
      },
      "source": [
        "valor_passagem = 4.30\n",
        "\n",
        "valor_corrida = input('Qual é o valor da corrida?')\n",
        "\n",
        "if float(valor_corrida) <= valor_passagem*5:\n",
        "  print('pague a corrida')\n",
        "else:\n",
        "  print('pegue um ônibus')"
      ],
      "execution_count": 22,
      "outputs": [
        {
          "output_type": "stream",
          "text": [
            "Qual é o valor da corrida?40\n",
            "pegue um ônibus\n"
          ],
          "name": "stdout"
        }
      ]
    },
    {
      "cell_type": "markdown",
      "metadata": {
        "id": "jQ8uxhp_hUl8"
      },
      "source": [
        "else"
      ]
    },
    {
      "cell_type": "code",
      "metadata": {
        "colab": {
          "base_uri": "https://localhost:8080/"
        },
        "id": "Yo6-WCh6hVfS",
        "outputId": "ed507481-3dec-4f1e-e227-98f227794a62"
      },
      "source": [
        "idade = int(input('Digite sua idade:'))\n",
        "altura = float(input('Digite sua altura, em metros:'))\n",
        "if idade >= 12 and altura >= 1.60:\n",
        "    print('Você pode entrar na montanha russa.')\n",
        "else:\n",
        "    print('Você não pode entrar na montanha russa.')\n",
        "print('Obrigado por participar.')"
      ],
      "execution_count": 17,
      "outputs": [
        {
          "output_type": "stream",
          "text": [
            "Digite sua idade:12\n",
            "Digite sua altura, em metros:1\n",
            "Você não pode entrar na montanha russa.\n",
            "Obrigado por participar.\n"
          ],
          "name": "stdout"
        }
      ]
    },
    {
      "cell_type": "markdown",
      "metadata": {
        "id": "6WBDu2buiy2S"
      },
      "source": [
        "#Estrutura de Repetição"
      ]
    },
    {
      "cell_type": "markdown",
      "metadata": {
        "id": "bQ7_b7Fii2i6"
      },
      "source": [
        "while"
      ]
    },
    {
      "cell_type": "code",
      "metadata": {
        "colab": {
          "base_uri": "https://localhost:8080/"
        },
        "id": "j1j5iouYi1hu",
        "outputId": "3a0ef5ec-d50b-483d-f802-485048171dc8"
      },
      "source": [
        "horario = int(input('Qual horario é agora? '))\n",
        "\n",
        "# Testando a condição uma única vez com o if:\n",
        "if 0 < horario < 6:\n",
        "    print('Você está no horario da madrugada')\n",
        "else:\n",
        "    print('Você nao está no horario da madrugada')\n",
        "\n",
        "# Testando a condição em loop com o while:\n",
        "while 0 < horario < 6:\n",
        "    print('Você está no horario da madrugada')\n",
        "    horario = horario + 1\n",
        "else:\n",
        "    print('Você nao está no horario da madrugada')\n",
        "\n",
        "# O while permite continuar decrementando o número de pipocas até chegar em 0:\n",
        "num_pipocas = int(input('Digite o numero de pipocas: '))\n",
        "\n",
        "while num_pipocas > 0:\n",
        "    print('O numero de pipocas é: ', num_pipocas)\n",
        "    num_pipocas = num_pipocas - 1"
      ],
      "execution_count": 24,
      "outputs": [
        {
          "output_type": "stream",
          "text": [
            "Qual horario é agora? 3\n",
            "Você está no horario da madrugada\n",
            "Você está no horario da madrugada\n",
            "Você está no horario da madrugada\n",
            "Você está no horario da madrugada\n",
            "Você nao está no horario da madrugada\n",
            "Digite o numero de pipocas: 3\n",
            "O numero de pipocas é:  3\n",
            "O numero de pipocas é:  2\n",
            "O numero de pipocas é:  1\n"
          ],
          "name": "stdout"
        }
      ]
    },
    {
      "cell_type": "markdown",
      "metadata": {
        "id": "ZkCHhAO6jXRz"
      },
      "source": [
        "Validação de entrada"
      ]
    },
    {
      "cell_type": "code",
      "metadata": {
        "colab": {
          "base_uri": "https://localhost:8080/"
        },
        "id": "bsIa0Bf8jQem",
        "outputId": "46ee790d-d7b9-48a8-c8bb-590d217c5cc8"
      },
      "source": [
        "# o exemplo abaixo não aceita um salário menor do que o mínimo atual:\n",
        "salario = float(input('Digite seu salario: '))\n",
        "while salario < 998.0:\n",
        "    salario = float(input('Entre com um salario MAIOR DO QUE 998.0: '))\n",
        "else:\n",
        "    print('O salario que você entrou foi: ', salario)"
      ],
      "execution_count": 26,
      "outputs": [
        {
          "output_type": "stream",
          "text": [
            "Digite seu salario: 500\n",
            "Entre com um salario MAIOR DO QUE 998.0: 10\n",
            "Entre com um salario MAIOR DO QUE 998.0: 10000\n",
            "O salario que você entrou foi:  10000.0\n"
          ],
          "name": "stdout"
        }
      ]
    },
    {
      "cell_type": "code",
      "metadata": {
        "colab": {
          "base_uri": "https://localhost:8080/"
        },
        "id": "Ncf-FgTljb--",
        "outputId": "3f555146-efea-4561-d99f-60704cdfd890"
      },
      "source": [
        "# o exemplo abaixo só sai do loop quando o usuário digitar \"OK\":\n",
        "resposta = input('Digite OK: ')\n",
        "while resposta != 'OK':\n",
        "    resposta = input('Não foi isso que eu pedi, digite OK: ')"
      ],
      "execution_count": 27,
      "outputs": [
        {
          "output_type": "stream",
          "text": [
            "Digite OK: nao\n",
            "Não foi isso que eu pedi, digite OK: OK\n"
          ],
          "name": "stdout"
        }
      ]
    },
    {
      "cell_type": "markdown",
      "metadata": {
        "id": "ELZ2PCd5jZKv"
      },
      "source": [
        "Contador"
      ]
    },
    {
      "cell_type": "code",
      "metadata": {
        "colab": {
          "base_uri": "https://localhost:8080/"
        },
        "id": "qJPb-ETMjfrG",
        "outputId": "3d0dc534-d02f-4905-8050-ab00735a8632"
      },
      "source": [
        "# Declaramos um contador como 0:\n",
        "contador = 0\n",
        "# Definimos o número de repetições:\n",
        "numero = int(input('Digite um numero: '))\n",
        "# Rodamos o while até o contador se igualar ao número de repetições:\n",
        "while contador < numero:\n",
        "    print(contador)\n",
        "    contador = contador + 1"
      ],
      "execution_count": 28,
      "outputs": [
        {
          "output_type": "stream",
          "text": [
            "Digite um numero: 9\n",
            "0\n",
            "1\n",
            "2\n",
            "3\n",
            "4\n",
            "5\n",
            "6\n",
            "7\n",
            "8\n"
          ],
          "name": "stdout"
        }
      ]
    },
    {
      "cell_type": "markdown",
      "metadata": {
        "id": "5lIw0RS7jlj7"
      },
      "source": [
        "Break"
      ]
    },
    {
      "cell_type": "code",
      "metadata": {
        "colab": {
          "base_uri": "https://localhost:8080/"
        },
        "id": "IK2gsgkpjmcx",
        "outputId": "cccceccf-e0ac-4a42-a77b-3ed2bc2d6a34"
      },
      "source": [
        "while True:\n",
        "    resposta = input('Digite OK: ')\n",
        "    if resposta == 'OK':\n",
        "        break"
      ],
      "execution_count": 29,
      "outputs": [
        {
          "output_type": "stream",
          "text": [
            "Digite OK: 3\n",
            "Digite OK: nao\n",
            "Digite OK: OK\n"
          ],
          "name": "stdout"
        }
      ]
    }
  ]
}